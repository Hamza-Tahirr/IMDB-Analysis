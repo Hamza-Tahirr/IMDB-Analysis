{
 "cells": [
  {
   "cell_type": "markdown",
   "id": "4f52bd3b",
   "metadata": {
    "papermill": {
     "duration": 0.051403,
     "end_time": "2022-08-23T17:48:04.687973",
     "exception": false,
     "start_time": "2022-08-23T17:48:04.636570",
     "status": "completed"
    },
    "tags": []
   },
   "source": [
    "### IMDB"
   ]
  },
  {
   "cell_type": "code",
   "execution_count": 1,
   "id": "e8ddb64e",
   "metadata": {
    "execution": {
     "iopub.execute_input": "2022-08-23T17:48:04.791482Z",
     "iopub.status.busy": "2022-08-23T17:48:04.791001Z",
     "iopub.status.idle": "2022-08-23T17:48:06.059276Z",
     "shell.execute_reply": "2022-08-23T17:48:06.058372Z"
    },
    "papermill": {
     "duration": 1.325428,
     "end_time": "2022-08-23T17:48:06.063045",
     "exception": false,
     "start_time": "2022-08-23T17:48:04.737617",
     "status": "completed"
    },
    "tags": []
   },
   "outputs": [],
   "source": [
    "import pandas as pd\n",
    "import seaborn as sns\n",
    "import matplotlib.pyplot as plt"
   ]
  },
  {
   "cell_type": "code",
   "execution_count": 2,
   "id": "17483614",
   "metadata": {
    "execution": {
     "iopub.execute_input": "2022-08-23T17:48:06.166213Z",
     "iopub.status.busy": "2022-08-23T17:48:06.165911Z",
     "iopub.status.idle": "2022-08-23T17:48:06.239311Z",
     "shell.execute_reply": "2022-08-23T17:48:06.238452Z"
    },
    "papermill": {
     "duration": 0.128886,
     "end_time": "2022-08-23T17:48:06.242192",
     "exception": false,
     "start_time": "2022-08-23T17:48:06.113306",
     "status": "completed"
    },
    "tags": []
   },
   "outputs": [
    {
     "data": {
      "text/html": [
       "<div>\n",
       "<style scoped>\n",
       "    .dataframe tbody tr th:only-of-type {\n",
       "        vertical-align: middle;\n",
       "    }\n",
       "\n",
       "    .dataframe tbody tr th {\n",
       "        vertical-align: top;\n",
       "    }\n",
       "\n",
       "    .dataframe thead th {\n",
       "        text-align: right;\n",
       "    }\n",
       "</style>\n",
       "<table border=\"1\" class=\"dataframe\">\n",
       "  <thead>\n",
       "    <tr style=\"text-align: right;\">\n",
       "      <th></th>\n",
       "      <th>Rank</th>\n",
       "      <th>Title</th>\n",
       "      <th>Genre</th>\n",
       "      <th>Description</th>\n",
       "      <th>Director</th>\n",
       "      <th>Actors</th>\n",
       "      <th>Year</th>\n",
       "      <th>Runtime (Minutes)</th>\n",
       "      <th>Rating</th>\n",
       "      <th>Votes</th>\n",
       "      <th>Revenue (Millions)</th>\n",
       "      <th>Metascore</th>\n",
       "    </tr>\n",
       "  </thead>\n",
       "  <tbody>\n",
       "    <tr>\n",
       "      <th>0</th>\n",
       "      <td>1</td>\n",
       "      <td>Guardians of the Galaxy</td>\n",
       "      <td>Action,Adventure,Sci-Fi</td>\n",
       "      <td>A group of intergalactic criminals are forced ...</td>\n",
       "      <td>James Gunn</td>\n",
       "      <td>Chris Pratt, Vin Diesel, Bradley Cooper, Zoe S...</td>\n",
       "      <td>2014</td>\n",
       "      <td>121</td>\n",
       "      <td>8.1</td>\n",
       "      <td>757074</td>\n",
       "      <td>333.13</td>\n",
       "      <td>76.0</td>\n",
       "    </tr>\n",
       "    <tr>\n",
       "      <th>1</th>\n",
       "      <td>2</td>\n",
       "      <td>Prometheus</td>\n",
       "      <td>Adventure,Mystery,Sci-Fi</td>\n",
       "      <td>Following clues to the origin of mankind, a te...</td>\n",
       "      <td>Ridley Scott</td>\n",
       "      <td>Noomi Rapace, Logan Marshall-Green, Michael Fa...</td>\n",
       "      <td>2012</td>\n",
       "      <td>124</td>\n",
       "      <td>7.0</td>\n",
       "      <td>485820</td>\n",
       "      <td>126.46</td>\n",
       "      <td>65.0</td>\n",
       "    </tr>\n",
       "    <tr>\n",
       "      <th>2</th>\n",
       "      <td>3</td>\n",
       "      <td>Split</td>\n",
       "      <td>Horror,Thriller</td>\n",
       "      <td>Three girls are kidnapped by a man with a diag...</td>\n",
       "      <td>M. Night Shyamalan</td>\n",
       "      <td>James McAvoy, Anya Taylor-Joy, Haley Lu Richar...</td>\n",
       "      <td>2016</td>\n",
       "      <td>117</td>\n",
       "      <td>7.3</td>\n",
       "      <td>157606</td>\n",
       "      <td>138.12</td>\n",
       "      <td>62.0</td>\n",
       "    </tr>\n",
       "    <tr>\n",
       "      <th>3</th>\n",
       "      <td>4</td>\n",
       "      <td>Sing</td>\n",
       "      <td>Animation,Comedy,Family</td>\n",
       "      <td>In a city of humanoid animals, a hustling thea...</td>\n",
       "      <td>Christophe Lourdelet</td>\n",
       "      <td>Matthew McConaughey,Reese Witherspoon, Seth Ma...</td>\n",
       "      <td>2016</td>\n",
       "      <td>108</td>\n",
       "      <td>7.2</td>\n",
       "      <td>60545</td>\n",
       "      <td>270.32</td>\n",
       "      <td>59.0</td>\n",
       "    </tr>\n",
       "    <tr>\n",
       "      <th>4</th>\n",
       "      <td>5</td>\n",
       "      <td>Suicide Squad</td>\n",
       "      <td>Action,Adventure,Fantasy</td>\n",
       "      <td>A secret government agency recruits some of th...</td>\n",
       "      <td>David Ayer</td>\n",
       "      <td>Will Smith, Jared Leto, Margot Robbie, Viola D...</td>\n",
       "      <td>2016</td>\n",
       "      <td>123</td>\n",
       "      <td>6.2</td>\n",
       "      <td>393727</td>\n",
       "      <td>325.02</td>\n",
       "      <td>40.0</td>\n",
       "    </tr>\n",
       "    <tr>\n",
       "      <th>...</th>\n",
       "      <td>...</td>\n",
       "      <td>...</td>\n",
       "      <td>...</td>\n",
       "      <td>...</td>\n",
       "      <td>...</td>\n",
       "      <td>...</td>\n",
       "      <td>...</td>\n",
       "      <td>...</td>\n",
       "      <td>...</td>\n",
       "      <td>...</td>\n",
       "      <td>...</td>\n",
       "      <td>...</td>\n",
       "    </tr>\n",
       "    <tr>\n",
       "      <th>995</th>\n",
       "      <td>996</td>\n",
       "      <td>Secret in Their Eyes</td>\n",
       "      <td>Crime,Drama,Mystery</td>\n",
       "      <td>A tight-knit team of rising investigators, alo...</td>\n",
       "      <td>Billy Ray</td>\n",
       "      <td>Chiwetel Ejiofor, Nicole Kidman, Julia Roberts...</td>\n",
       "      <td>2015</td>\n",
       "      <td>111</td>\n",
       "      <td>6.2</td>\n",
       "      <td>27585</td>\n",
       "      <td>NaN</td>\n",
       "      <td>45.0</td>\n",
       "    </tr>\n",
       "    <tr>\n",
       "      <th>996</th>\n",
       "      <td>997</td>\n",
       "      <td>Hostel: Part II</td>\n",
       "      <td>Horror</td>\n",
       "      <td>Three American college students studying abroa...</td>\n",
       "      <td>Eli Roth</td>\n",
       "      <td>Lauren German, Heather Matarazzo, Bijou Philli...</td>\n",
       "      <td>2007</td>\n",
       "      <td>94</td>\n",
       "      <td>5.5</td>\n",
       "      <td>73152</td>\n",
       "      <td>17.54</td>\n",
       "      <td>46.0</td>\n",
       "    </tr>\n",
       "    <tr>\n",
       "      <th>997</th>\n",
       "      <td>998</td>\n",
       "      <td>Step Up 2: The Streets</td>\n",
       "      <td>Drama,Music,Romance</td>\n",
       "      <td>Romantic sparks occur between two dance studen...</td>\n",
       "      <td>Jon M. Chu</td>\n",
       "      <td>Robert Hoffman, Briana Evigan, Cassie Ventura,...</td>\n",
       "      <td>2008</td>\n",
       "      <td>98</td>\n",
       "      <td>6.2</td>\n",
       "      <td>70699</td>\n",
       "      <td>58.01</td>\n",
       "      <td>50.0</td>\n",
       "    </tr>\n",
       "    <tr>\n",
       "      <th>998</th>\n",
       "      <td>999</td>\n",
       "      <td>Search Party</td>\n",
       "      <td>Adventure,Comedy</td>\n",
       "      <td>A pair of friends embark on a mission to reuni...</td>\n",
       "      <td>Scot Armstrong</td>\n",
       "      <td>Adam Pally, T.J. Miller, Thomas Middleditch,Sh...</td>\n",
       "      <td>2014</td>\n",
       "      <td>93</td>\n",
       "      <td>5.6</td>\n",
       "      <td>4881</td>\n",
       "      <td>NaN</td>\n",
       "      <td>22.0</td>\n",
       "    </tr>\n",
       "    <tr>\n",
       "      <th>999</th>\n",
       "      <td>1000</td>\n",
       "      <td>Nine Lives</td>\n",
       "      <td>Comedy,Family,Fantasy</td>\n",
       "      <td>A stuffy businessman finds himself trapped ins...</td>\n",
       "      <td>Barry Sonnenfeld</td>\n",
       "      <td>Kevin Spacey, Jennifer Garner, Robbie Amell,Ch...</td>\n",
       "      <td>2016</td>\n",
       "      <td>87</td>\n",
       "      <td>5.3</td>\n",
       "      <td>12435</td>\n",
       "      <td>19.64</td>\n",
       "      <td>11.0</td>\n",
       "    </tr>\n",
       "  </tbody>\n",
       "</table>\n",
       "<p>1000 rows × 12 columns</p>\n",
       "</div>"
      ],
      "text/plain": [
       "     Rank                    Title                     Genre  \\\n",
       "0       1  Guardians of the Galaxy   Action,Adventure,Sci-Fi   \n",
       "1       2               Prometheus  Adventure,Mystery,Sci-Fi   \n",
       "2       3                    Split           Horror,Thriller   \n",
       "3       4                     Sing   Animation,Comedy,Family   \n",
       "4       5            Suicide Squad  Action,Adventure,Fantasy   \n",
       "..    ...                      ...                       ...   \n",
       "995   996     Secret in Their Eyes       Crime,Drama,Mystery   \n",
       "996   997          Hostel: Part II                    Horror   \n",
       "997   998   Step Up 2: The Streets       Drama,Music,Romance   \n",
       "998   999             Search Party          Adventure,Comedy   \n",
       "999  1000               Nine Lives     Comedy,Family,Fantasy   \n",
       "\n",
       "                                           Description              Director  \\\n",
       "0    A group of intergalactic criminals are forced ...            James Gunn   \n",
       "1    Following clues to the origin of mankind, a te...          Ridley Scott   \n",
       "2    Three girls are kidnapped by a man with a diag...    M. Night Shyamalan   \n",
       "3    In a city of humanoid animals, a hustling thea...  Christophe Lourdelet   \n",
       "4    A secret government agency recruits some of th...            David Ayer   \n",
       "..                                                 ...                   ...   \n",
       "995  A tight-knit team of rising investigators, alo...             Billy Ray   \n",
       "996  Three American college students studying abroa...              Eli Roth   \n",
       "997  Romantic sparks occur between two dance studen...            Jon M. Chu   \n",
       "998  A pair of friends embark on a mission to reuni...        Scot Armstrong   \n",
       "999  A stuffy businessman finds himself trapped ins...      Barry Sonnenfeld   \n",
       "\n",
       "                                                Actors  Year  \\\n",
       "0    Chris Pratt, Vin Diesel, Bradley Cooper, Zoe S...  2014   \n",
       "1    Noomi Rapace, Logan Marshall-Green, Michael Fa...  2012   \n",
       "2    James McAvoy, Anya Taylor-Joy, Haley Lu Richar...  2016   \n",
       "3    Matthew McConaughey,Reese Witherspoon, Seth Ma...  2016   \n",
       "4    Will Smith, Jared Leto, Margot Robbie, Viola D...  2016   \n",
       "..                                                 ...   ...   \n",
       "995  Chiwetel Ejiofor, Nicole Kidman, Julia Roberts...  2015   \n",
       "996  Lauren German, Heather Matarazzo, Bijou Philli...  2007   \n",
       "997  Robert Hoffman, Briana Evigan, Cassie Ventura,...  2008   \n",
       "998  Adam Pally, T.J. Miller, Thomas Middleditch,Sh...  2014   \n",
       "999  Kevin Spacey, Jennifer Garner, Robbie Amell,Ch...  2016   \n",
       "\n",
       "     Runtime (Minutes)  Rating   Votes  Revenue (Millions)  Metascore  \n",
       "0                  121     8.1  757074              333.13       76.0  \n",
       "1                  124     7.0  485820              126.46       65.0  \n",
       "2                  117     7.3  157606              138.12       62.0  \n",
       "3                  108     7.2   60545              270.32       59.0  \n",
       "4                  123     6.2  393727              325.02       40.0  \n",
       "..                 ...     ...     ...                 ...        ...  \n",
       "995                111     6.2   27585                 NaN       45.0  \n",
       "996                 94     5.5   73152               17.54       46.0  \n",
       "997                 98     6.2   70699               58.01       50.0  \n",
       "998                 93     5.6    4881                 NaN       22.0  \n",
       "999                 87     5.3   12435               19.64       11.0  \n",
       "\n",
       "[1000 rows x 12 columns]"
      ]
     },
     "execution_count": 2,
     "metadata": {},
     "output_type": "execute_result"
    }
   ],
   "source": [
    "films=pd.read_csv(\"../input/imdb-data/IMDB-Movie-Data.csv\")\n",
    "films"
   ]
  },
  {
   "cell_type": "markdown",
   "id": "cf05f8d0",
   "metadata": {
    "papermill": {
     "duration": 0.051264,
     "end_time": "2022-08-23T17:48:06.346049",
     "exception": false,
     "start_time": "2022-08-23T17:48:06.294785",
     "status": "completed"
    },
    "tags": []
   },
   "source": [
    "###  Display Top 10 Rows of The Dataset"
   ]
  },
  {
   "cell_type": "code",
   "execution_count": 3,
   "id": "731e896f",
   "metadata": {
    "execution": {
     "iopub.execute_input": "2022-08-23T17:48:06.449646Z",
     "iopub.status.busy": "2022-08-23T17:48:06.449315Z",
     "iopub.status.idle": "2022-08-23T17:48:06.464698Z",
     "shell.execute_reply": "2022-08-23T17:48:06.463993Z"
    },
    "papermill": {
     "duration": 0.069915,
     "end_time": "2022-08-23T17:48:06.466899",
     "exception": false,
     "start_time": "2022-08-23T17:48:06.396984",
     "status": "completed"
    },
    "tags": []
   },
   "outputs": [
    {
     "data": {
      "text/html": [
       "<div>\n",
       "<style scoped>\n",
       "    .dataframe tbody tr th:only-of-type {\n",
       "        vertical-align: middle;\n",
       "    }\n",
       "\n",
       "    .dataframe tbody tr th {\n",
       "        vertical-align: top;\n",
       "    }\n",
       "\n",
       "    .dataframe thead th {\n",
       "        text-align: right;\n",
       "    }\n",
       "</style>\n",
       "<table border=\"1\" class=\"dataframe\">\n",
       "  <thead>\n",
       "    <tr style=\"text-align: right;\">\n",
       "      <th></th>\n",
       "      <th>Rank</th>\n",
       "      <th>Title</th>\n",
       "      <th>Genre</th>\n",
       "      <th>Description</th>\n",
       "      <th>Director</th>\n",
       "      <th>Actors</th>\n",
       "      <th>Year</th>\n",
       "      <th>Runtime (Minutes)</th>\n",
       "      <th>Rating</th>\n",
       "      <th>Votes</th>\n",
       "      <th>Revenue (Millions)</th>\n",
       "      <th>Metascore</th>\n",
       "    </tr>\n",
       "  </thead>\n",
       "  <tbody>\n",
       "    <tr>\n",
       "      <th>0</th>\n",
       "      <td>1</td>\n",
       "      <td>Guardians of the Galaxy</td>\n",
       "      <td>Action,Adventure,Sci-Fi</td>\n",
       "      <td>A group of intergalactic criminals are forced ...</td>\n",
       "      <td>James Gunn</td>\n",
       "      <td>Chris Pratt, Vin Diesel, Bradley Cooper, Zoe S...</td>\n",
       "      <td>2014</td>\n",
       "      <td>121</td>\n",
       "      <td>8.1</td>\n",
       "      <td>757074</td>\n",
       "      <td>333.13</td>\n",
       "      <td>76.0</td>\n",
       "    </tr>\n",
       "    <tr>\n",
       "      <th>1</th>\n",
       "      <td>2</td>\n",
       "      <td>Prometheus</td>\n",
       "      <td>Adventure,Mystery,Sci-Fi</td>\n",
       "      <td>Following clues to the origin of mankind, a te...</td>\n",
       "      <td>Ridley Scott</td>\n",
       "      <td>Noomi Rapace, Logan Marshall-Green, Michael Fa...</td>\n",
       "      <td>2012</td>\n",
       "      <td>124</td>\n",
       "      <td>7.0</td>\n",
       "      <td>485820</td>\n",
       "      <td>126.46</td>\n",
       "      <td>65.0</td>\n",
       "    </tr>\n",
       "    <tr>\n",
       "      <th>2</th>\n",
       "      <td>3</td>\n",
       "      <td>Split</td>\n",
       "      <td>Horror,Thriller</td>\n",
       "      <td>Three girls are kidnapped by a man with a diag...</td>\n",
       "      <td>M. Night Shyamalan</td>\n",
       "      <td>James McAvoy, Anya Taylor-Joy, Haley Lu Richar...</td>\n",
       "      <td>2016</td>\n",
       "      <td>117</td>\n",
       "      <td>7.3</td>\n",
       "      <td>157606</td>\n",
       "      <td>138.12</td>\n",
       "      <td>62.0</td>\n",
       "    </tr>\n",
       "    <tr>\n",
       "      <th>3</th>\n",
       "      <td>4</td>\n",
       "      <td>Sing</td>\n",
       "      <td>Animation,Comedy,Family</td>\n",
       "      <td>In a city of humanoid animals, a hustling thea...</td>\n",
       "      <td>Christophe Lourdelet</td>\n",
       "      <td>Matthew McConaughey,Reese Witherspoon, Seth Ma...</td>\n",
       "      <td>2016</td>\n",
       "      <td>108</td>\n",
       "      <td>7.2</td>\n",
       "      <td>60545</td>\n",
       "      <td>270.32</td>\n",
       "      <td>59.0</td>\n",
       "    </tr>\n",
       "    <tr>\n",
       "      <th>4</th>\n",
       "      <td>5</td>\n",
       "      <td>Suicide Squad</td>\n",
       "      <td>Action,Adventure,Fantasy</td>\n",
       "      <td>A secret government agency recruits some of th...</td>\n",
       "      <td>David Ayer</td>\n",
       "      <td>Will Smith, Jared Leto, Margot Robbie, Viola D...</td>\n",
       "      <td>2016</td>\n",
       "      <td>123</td>\n",
       "      <td>6.2</td>\n",
       "      <td>393727</td>\n",
       "      <td>325.02</td>\n",
       "      <td>40.0</td>\n",
       "    </tr>\n",
       "  </tbody>\n",
       "</table>\n",
       "</div>"
      ],
      "text/plain": [
       "   Rank                    Title                     Genre  \\\n",
       "0     1  Guardians of the Galaxy   Action,Adventure,Sci-Fi   \n",
       "1     2               Prometheus  Adventure,Mystery,Sci-Fi   \n",
       "2     3                    Split           Horror,Thriller   \n",
       "3     4                     Sing   Animation,Comedy,Family   \n",
       "4     5            Suicide Squad  Action,Adventure,Fantasy   \n",
       "\n",
       "                                         Description              Director  \\\n",
       "0  A group of intergalactic criminals are forced ...            James Gunn   \n",
       "1  Following clues to the origin of mankind, a te...          Ridley Scott   \n",
       "2  Three girls are kidnapped by a man with a diag...    M. Night Shyamalan   \n",
       "3  In a city of humanoid animals, a hustling thea...  Christophe Lourdelet   \n",
       "4  A secret government agency recruits some of th...            David Ayer   \n",
       "\n",
       "                                              Actors  Year  Runtime (Minutes)  \\\n",
       "0  Chris Pratt, Vin Diesel, Bradley Cooper, Zoe S...  2014                121   \n",
       "1  Noomi Rapace, Logan Marshall-Green, Michael Fa...  2012                124   \n",
       "2  James McAvoy, Anya Taylor-Joy, Haley Lu Richar...  2016                117   \n",
       "3  Matthew McConaughey,Reese Witherspoon, Seth Ma...  2016                108   \n",
       "4  Will Smith, Jared Leto, Margot Robbie, Viola D...  2016                123   \n",
       "\n",
       "   Rating   Votes  Revenue (Millions)  Metascore  \n",
       "0     8.1  757074              333.13       76.0  \n",
       "1     7.0  485820              126.46       65.0  \n",
       "2     7.3  157606              138.12       62.0  \n",
       "3     7.2   60545              270.32       59.0  \n",
       "4     6.2  393727              325.02       40.0  "
      ]
     },
     "execution_count": 3,
     "metadata": {},
     "output_type": "execute_result"
    }
   ],
   "source": [
    "films.head()"
   ]
  },
  {
   "cell_type": "markdown",
   "id": "2fd1a342",
   "metadata": {
    "papermill": {
     "duration": 0.05089,
     "end_time": "2022-08-23T17:48:06.571077",
     "exception": false,
     "start_time": "2022-08-23T17:48:06.520187",
     "status": "completed"
    },
    "tags": []
   },
   "source": [
    "### Check Last 10 Rows of The Dataset"
   ]
  },
  {
   "cell_type": "code",
   "execution_count": 4,
   "id": "d013e8ce",
   "metadata": {
    "execution": {
     "iopub.execute_input": "2022-08-23T17:48:06.675761Z",
     "iopub.status.busy": "2022-08-23T17:48:06.675188Z",
     "iopub.status.idle": "2022-08-23T17:48:06.691226Z",
     "shell.execute_reply": "2022-08-23T17:48:06.690195Z"
    },
    "papermill": {
     "duration": 0.071466,
     "end_time": "2022-08-23T17:48:06.693579",
     "exception": false,
     "start_time": "2022-08-23T17:48:06.622113",
     "status": "completed"
    },
    "tags": []
   },
   "outputs": [
    {
     "data": {
      "text/html": [
       "<div>\n",
       "<style scoped>\n",
       "    .dataframe tbody tr th:only-of-type {\n",
       "        vertical-align: middle;\n",
       "    }\n",
       "\n",
       "    .dataframe tbody tr th {\n",
       "        vertical-align: top;\n",
       "    }\n",
       "\n",
       "    .dataframe thead th {\n",
       "        text-align: right;\n",
       "    }\n",
       "</style>\n",
       "<table border=\"1\" class=\"dataframe\">\n",
       "  <thead>\n",
       "    <tr style=\"text-align: right;\">\n",
       "      <th></th>\n",
       "      <th>Rank</th>\n",
       "      <th>Title</th>\n",
       "      <th>Genre</th>\n",
       "      <th>Description</th>\n",
       "      <th>Director</th>\n",
       "      <th>Actors</th>\n",
       "      <th>Year</th>\n",
       "      <th>Runtime (Minutes)</th>\n",
       "      <th>Rating</th>\n",
       "      <th>Votes</th>\n",
       "      <th>Revenue (Millions)</th>\n",
       "      <th>Metascore</th>\n",
       "    </tr>\n",
       "  </thead>\n",
       "  <tbody>\n",
       "    <tr>\n",
       "      <th>995</th>\n",
       "      <td>996</td>\n",
       "      <td>Secret in Their Eyes</td>\n",
       "      <td>Crime,Drama,Mystery</td>\n",
       "      <td>A tight-knit team of rising investigators, alo...</td>\n",
       "      <td>Billy Ray</td>\n",
       "      <td>Chiwetel Ejiofor, Nicole Kidman, Julia Roberts...</td>\n",
       "      <td>2015</td>\n",
       "      <td>111</td>\n",
       "      <td>6.2</td>\n",
       "      <td>27585</td>\n",
       "      <td>NaN</td>\n",
       "      <td>45.0</td>\n",
       "    </tr>\n",
       "    <tr>\n",
       "      <th>996</th>\n",
       "      <td>997</td>\n",
       "      <td>Hostel: Part II</td>\n",
       "      <td>Horror</td>\n",
       "      <td>Three American college students studying abroa...</td>\n",
       "      <td>Eli Roth</td>\n",
       "      <td>Lauren German, Heather Matarazzo, Bijou Philli...</td>\n",
       "      <td>2007</td>\n",
       "      <td>94</td>\n",
       "      <td>5.5</td>\n",
       "      <td>73152</td>\n",
       "      <td>17.54</td>\n",
       "      <td>46.0</td>\n",
       "    </tr>\n",
       "    <tr>\n",
       "      <th>997</th>\n",
       "      <td>998</td>\n",
       "      <td>Step Up 2: The Streets</td>\n",
       "      <td>Drama,Music,Romance</td>\n",
       "      <td>Romantic sparks occur between two dance studen...</td>\n",
       "      <td>Jon M. Chu</td>\n",
       "      <td>Robert Hoffman, Briana Evigan, Cassie Ventura,...</td>\n",
       "      <td>2008</td>\n",
       "      <td>98</td>\n",
       "      <td>6.2</td>\n",
       "      <td>70699</td>\n",
       "      <td>58.01</td>\n",
       "      <td>50.0</td>\n",
       "    </tr>\n",
       "    <tr>\n",
       "      <th>998</th>\n",
       "      <td>999</td>\n",
       "      <td>Search Party</td>\n",
       "      <td>Adventure,Comedy</td>\n",
       "      <td>A pair of friends embark on a mission to reuni...</td>\n",
       "      <td>Scot Armstrong</td>\n",
       "      <td>Adam Pally, T.J. Miller, Thomas Middleditch,Sh...</td>\n",
       "      <td>2014</td>\n",
       "      <td>93</td>\n",
       "      <td>5.6</td>\n",
       "      <td>4881</td>\n",
       "      <td>NaN</td>\n",
       "      <td>22.0</td>\n",
       "    </tr>\n",
       "    <tr>\n",
       "      <th>999</th>\n",
       "      <td>1000</td>\n",
       "      <td>Nine Lives</td>\n",
       "      <td>Comedy,Family,Fantasy</td>\n",
       "      <td>A stuffy businessman finds himself trapped ins...</td>\n",
       "      <td>Barry Sonnenfeld</td>\n",
       "      <td>Kevin Spacey, Jennifer Garner, Robbie Amell,Ch...</td>\n",
       "      <td>2016</td>\n",
       "      <td>87</td>\n",
       "      <td>5.3</td>\n",
       "      <td>12435</td>\n",
       "      <td>19.64</td>\n",
       "      <td>11.0</td>\n",
       "    </tr>\n",
       "  </tbody>\n",
       "</table>\n",
       "</div>"
      ],
      "text/plain": [
       "     Rank                   Title                  Genre  \\\n",
       "995   996    Secret in Their Eyes    Crime,Drama,Mystery   \n",
       "996   997         Hostel: Part II                 Horror   \n",
       "997   998  Step Up 2: The Streets    Drama,Music,Romance   \n",
       "998   999            Search Party       Adventure,Comedy   \n",
       "999  1000              Nine Lives  Comedy,Family,Fantasy   \n",
       "\n",
       "                                           Description          Director  \\\n",
       "995  A tight-knit team of rising investigators, alo...         Billy Ray   \n",
       "996  Three American college students studying abroa...          Eli Roth   \n",
       "997  Romantic sparks occur between two dance studen...        Jon M. Chu   \n",
       "998  A pair of friends embark on a mission to reuni...    Scot Armstrong   \n",
       "999  A stuffy businessman finds himself trapped ins...  Barry Sonnenfeld   \n",
       "\n",
       "                                                Actors  Year  \\\n",
       "995  Chiwetel Ejiofor, Nicole Kidman, Julia Roberts...  2015   \n",
       "996  Lauren German, Heather Matarazzo, Bijou Philli...  2007   \n",
       "997  Robert Hoffman, Briana Evigan, Cassie Ventura,...  2008   \n",
       "998  Adam Pally, T.J. Miller, Thomas Middleditch,Sh...  2014   \n",
       "999  Kevin Spacey, Jennifer Garner, Robbie Amell,Ch...  2016   \n",
       "\n",
       "     Runtime (Minutes)  Rating  Votes  Revenue (Millions)  Metascore  \n",
       "995                111     6.2  27585                 NaN       45.0  \n",
       "996                 94     5.5  73152               17.54       46.0  \n",
       "997                 98     6.2  70699               58.01       50.0  \n",
       "998                 93     5.6   4881                 NaN       22.0  \n",
       "999                 87     5.3  12435               19.64       11.0  "
      ]
     },
     "execution_count": 4,
     "metadata": {},
     "output_type": "execute_result"
    }
   ],
   "source": [
    "films.tail()"
   ]
  },
  {
   "cell_type": "markdown",
   "id": "7732dd92",
   "metadata": {
    "papermill": {
     "duration": 0.052673,
     "end_time": "2022-08-23T17:48:06.799820",
     "exception": false,
     "start_time": "2022-08-23T17:48:06.747147",
     "status": "completed"
    },
    "tags": []
   },
   "source": [
    "### Find Shape of Our Dataset (Number of Rows And Number of Columns)"
   ]
  },
  {
   "cell_type": "code",
   "execution_count": 5,
   "id": "55718eb2",
   "metadata": {
    "execution": {
     "iopub.execute_input": "2022-08-23T17:48:06.906086Z",
     "iopub.status.busy": "2022-08-23T17:48:06.905484Z",
     "iopub.status.idle": "2022-08-23T17:48:06.910545Z",
     "shell.execute_reply": "2022-08-23T17:48:06.909993Z"
    },
    "papermill": {
     "duration": 0.060239,
     "end_time": "2022-08-23T17:48:06.912515",
     "exception": false,
     "start_time": "2022-08-23T17:48:06.852276",
     "status": "completed"
    },
    "tags": []
   },
   "outputs": [
    {
     "name": "stdout",
     "output_type": "stream",
     "text": [
      "Number of rows 1000\n",
      "Columns of number 12\n"
     ]
    }
   ],
   "source": [
    "films.shape\n",
    "print(\"Number of rows\",films.shape[0])\n",
    "print(\"Columns of number\",films.shape[1])"
   ]
  },
  {
   "cell_type": "markdown",
   "id": "6f4db28b",
   "metadata": {
    "papermill": {
     "duration": 0.05199,
     "end_time": "2022-08-23T17:48:07.016731",
     "exception": false,
     "start_time": "2022-08-23T17:48:06.964741",
     "status": "completed"
    },
    "tags": []
   },
   "source": [
    "### Getting Information About Our Dataset Like Total Number Rows, Total Number of Columns, Datatypes of Each Column And Memory Requirement"
   ]
  },
  {
   "cell_type": "code",
   "execution_count": 6,
   "id": "a892b1ae",
   "metadata": {
    "execution": {
     "iopub.execute_input": "2022-08-23T17:48:07.125678Z",
     "iopub.status.busy": "2022-08-23T17:48:07.125359Z",
     "iopub.status.idle": "2022-08-23T17:48:07.139759Z",
     "shell.execute_reply": "2022-08-23T17:48:07.139077Z"
    },
    "papermill": {
     "duration": 0.072138,
     "end_time": "2022-08-23T17:48:07.141758",
     "exception": false,
     "start_time": "2022-08-23T17:48:07.069620",
     "status": "completed"
    },
    "tags": []
   },
   "outputs": [
    {
     "data": {
      "text/plain": [
       "<bound method DataFrame.info of      Rank                    Title                     Genre  \\\n",
       "0       1  Guardians of the Galaxy   Action,Adventure,Sci-Fi   \n",
       "1       2               Prometheus  Adventure,Mystery,Sci-Fi   \n",
       "2       3                    Split           Horror,Thriller   \n",
       "3       4                     Sing   Animation,Comedy,Family   \n",
       "4       5            Suicide Squad  Action,Adventure,Fantasy   \n",
       "..    ...                      ...                       ...   \n",
       "995   996     Secret in Their Eyes       Crime,Drama,Mystery   \n",
       "996   997          Hostel: Part II                    Horror   \n",
       "997   998   Step Up 2: The Streets       Drama,Music,Romance   \n",
       "998   999             Search Party          Adventure,Comedy   \n",
       "999  1000               Nine Lives     Comedy,Family,Fantasy   \n",
       "\n",
       "                                           Description              Director  \\\n",
       "0    A group of intergalactic criminals are forced ...            James Gunn   \n",
       "1    Following clues to the origin of mankind, a te...          Ridley Scott   \n",
       "2    Three girls are kidnapped by a man with a diag...    M. Night Shyamalan   \n",
       "3    In a city of humanoid animals, a hustling thea...  Christophe Lourdelet   \n",
       "4    A secret government agency recruits some of th...            David Ayer   \n",
       "..                                                 ...                   ...   \n",
       "995  A tight-knit team of rising investigators, alo...             Billy Ray   \n",
       "996  Three American college students studying abroa...              Eli Roth   \n",
       "997  Romantic sparks occur between two dance studen...            Jon M. Chu   \n",
       "998  A pair of friends embark on a mission to reuni...        Scot Armstrong   \n",
       "999  A stuffy businessman finds himself trapped ins...      Barry Sonnenfeld   \n",
       "\n",
       "                                                Actors  Year  \\\n",
       "0    Chris Pratt, Vin Diesel, Bradley Cooper, Zoe S...  2014   \n",
       "1    Noomi Rapace, Logan Marshall-Green, Michael Fa...  2012   \n",
       "2    James McAvoy, Anya Taylor-Joy, Haley Lu Richar...  2016   \n",
       "3    Matthew McConaughey,Reese Witherspoon, Seth Ma...  2016   \n",
       "4    Will Smith, Jared Leto, Margot Robbie, Viola D...  2016   \n",
       "..                                                 ...   ...   \n",
       "995  Chiwetel Ejiofor, Nicole Kidman, Julia Roberts...  2015   \n",
       "996  Lauren German, Heather Matarazzo, Bijou Philli...  2007   \n",
       "997  Robert Hoffman, Briana Evigan, Cassie Ventura,...  2008   \n",
       "998  Adam Pally, T.J. Miller, Thomas Middleditch,Sh...  2014   \n",
       "999  Kevin Spacey, Jennifer Garner, Robbie Amell,Ch...  2016   \n",
       "\n",
       "     Runtime (Minutes)  Rating   Votes  Revenue (Millions)  Metascore  \n",
       "0                  121     8.1  757074              333.13       76.0  \n",
       "1                  124     7.0  485820              126.46       65.0  \n",
       "2                  117     7.3  157606              138.12       62.0  \n",
       "3                  108     7.2   60545              270.32       59.0  \n",
       "4                  123     6.2  393727              325.02       40.0  \n",
       "..                 ...     ...     ...                 ...        ...  \n",
       "995                111     6.2   27585                 NaN       45.0  \n",
       "996                 94     5.5   73152               17.54       46.0  \n",
       "997                 98     6.2   70699               58.01       50.0  \n",
       "998                 93     5.6    4881                 NaN       22.0  \n",
       "999                 87     5.3   12435               19.64       11.0  \n",
       "\n",
       "[1000 rows x 12 columns]>"
      ]
     },
     "execution_count": 6,
     "metadata": {},
     "output_type": "execute_result"
    }
   ],
   "source": [
    "films.info"
   ]
  },
  {
   "cell_type": "markdown",
   "id": "91d44036",
   "metadata": {
    "papermill": {
     "duration": 0.052486,
     "end_time": "2022-08-23T17:48:07.250289",
     "exception": false,
     "start_time": "2022-08-23T17:48:07.197803",
     "status": "completed"
    },
    "tags": []
   },
   "source": [
    "### Check Missing Values In The Dataset"
   ]
  },
  {
   "cell_type": "code",
   "execution_count": 7,
   "id": "361b4e34",
   "metadata": {
    "execution": {
     "iopub.execute_input": "2022-08-23T17:48:07.357675Z",
     "iopub.status.busy": "2022-08-23T17:48:07.357120Z",
     "iopub.status.idle": "2022-08-23T17:48:07.367598Z",
     "shell.execute_reply": "2022-08-23T17:48:07.366962Z"
    },
    "papermill": {
     "duration": 0.066803,
     "end_time": "2022-08-23T17:48:07.370395",
     "exception": false,
     "start_time": "2022-08-23T17:48:07.303592",
     "status": "completed"
    },
    "tags": []
   },
   "outputs": [
    {
     "name": "stdout",
     "output_type": "stream",
     "text": [
      "Number of null values 192\n",
      "Number of null values in percent Rank                   0.0\n",
      "Title                  0.0\n",
      "Genre                  0.0\n",
      "Description            0.0\n",
      "Director               0.0\n",
      "Actors                 0.0\n",
      "Year                   0.0\n",
      "Runtime (Minutes)      0.0\n",
      "Rating                 0.0\n",
      "Votes                  0.0\n",
      "Revenue (Millions)    12.8\n",
      "Metascore              6.4\n",
      "dtype: float64\n"
     ]
    }
   ],
   "source": [
    "dataisnull=films.isnull().sum().sum()\n",
    "print(\"Number of null values\",dataisnull) \n",
    "dataisnullpercent=films.isnull().sum()*100/ len(films)\n",
    "print(\"Number of null values in percent\",dataisnullpercent)"
   ]
  },
  {
   "cell_type": "code",
   "execution_count": 8,
   "id": "03286c8d",
   "metadata": {
    "execution": {
     "iopub.execute_input": "2022-08-23T17:48:07.479580Z",
     "iopub.status.busy": "2022-08-23T17:48:07.479265Z",
     "iopub.status.idle": "2022-08-23T17:48:07.905376Z",
     "shell.execute_reply": "2022-08-23T17:48:07.904533Z"
    },
    "papermill": {
     "duration": 0.483004,
     "end_time": "2022-08-23T17:48:07.907815",
     "exception": false,
     "start_time": "2022-08-23T17:48:07.424811",
     "status": "completed"
    },
    "tags": []
   },
   "outputs": [
    {
     "data": {
      "text/plain": [
       "<AxesSubplot:>"
      ]
     },
     "execution_count": 8,
     "metadata": {},
     "output_type": "execute_result"
    },
    {
     "data": {
      "image/png": "[encoded data removed]",
      "text/plain": [
       "<Figure size 432x288 with 2 Axes>"
      ]
     },
     "metadata": {
      "needs_background": "light"
     },
     "output_type": "display_data"
    }
   ],
   "source": [
    "sns.heatmap(films.isnull())"
   ]
  },
  {
   "cell_type": "markdown",
   "id": "a0dd9eb7",
   "metadata": {
    "papermill": {
     "duration": 0.054509,
     "end_time": "2022-08-23T17:48:08.017228",
     "exception": false,
     "start_time": "2022-08-23T17:48:07.962719",
     "status": "completed"
    },
    "tags": []
   },
   "source": [
    "### Drop All The  Missing Values"
   ]
  },
  {
   "cell_type": "code",
   "execution_count": 9,
   "id": "9064a386",
   "metadata": {
    "execution": {
     "iopub.execute_input": "2022-08-23T17:48:08.129301Z",
     "iopub.status.busy": "2022-08-23T17:48:08.128987Z",
     "iopub.status.idle": "2022-08-23T17:48:08.154262Z",
     "shell.execute_reply": "2022-08-23T17:48:08.153662Z"
    },
    "papermill": {
     "duration": 0.084093,
     "end_time": "2022-08-23T17:48:08.156144",
     "exception": false,
     "start_time": "2022-08-23T17:48:08.072051",
     "status": "completed"
    },
    "tags": []
   },
   "outputs": [
    {
     "data": {
      "text/html": [
       "<div>\n",
       "<style scoped>\n",
       "    .dataframe tbody tr th:only-of-type {\n",
       "        vertical-align: middle;\n",
       "    }\n",
       "\n",
       "    .dataframe tbody tr th {\n",
       "        vertical-align: top;\n",
       "    }\n",
       "\n",
       "    .dataframe thead th {\n",
       "        text-align: right;\n",
       "    }\n",
       "</style>\n",
       "<table border=\"1\" class=\"dataframe\">\n",
       "  <thead>\n",
       "    <tr style=\"text-align: right;\">\n",
       "      <th></th>\n",
       "      <th>Rank</th>\n",
       "      <th>Title</th>\n",
       "      <th>Genre</th>\n",
       "      <th>Description</th>\n",
       "      <th>Director</th>\n",
       "      <th>Actors</th>\n",
       "      <th>Year</th>\n",
       "      <th>Runtime (Minutes)</th>\n",
       "      <th>Rating</th>\n",
       "      <th>Votes</th>\n",
       "      <th>Revenue (Millions)</th>\n",
       "      <th>Metascore</th>\n",
       "    </tr>\n",
       "  </thead>\n",
       "  <tbody>\n",
       "    <tr>\n",
       "      <th>0</th>\n",
       "      <td>1</td>\n",
       "      <td>Guardians of the Galaxy</td>\n",
       "      <td>Action,Adventure,Sci-Fi</td>\n",
       "      <td>A group of intergalactic criminals are forced ...</td>\n",
       "      <td>James Gunn</td>\n",
       "      <td>Chris Pratt, Vin Diesel, Bradley Cooper, Zoe S...</td>\n",
       "      <td>2014</td>\n",
       "      <td>121</td>\n",
       "      <td>8.1</td>\n",
       "      <td>757074</td>\n",
       "      <td>333.13</td>\n",
       "      <td>76.0</td>\n",
       "    </tr>\n",
       "    <tr>\n",
       "      <th>1</th>\n",
       "      <td>2</td>\n",
       "      <td>Prometheus</td>\n",
       "      <td>Adventure,Mystery,Sci-Fi</td>\n",
       "      <td>Following clues to the origin of mankind, a te...</td>\n",
       "      <td>Ridley Scott</td>\n",
       "      <td>Noomi Rapace, Logan Marshall-Green, Michael Fa...</td>\n",
       "      <td>2012</td>\n",
       "      <td>124</td>\n",
       "      <td>7.0</td>\n",
       "      <td>485820</td>\n",
       "      <td>126.46</td>\n",
       "      <td>65.0</td>\n",
       "    </tr>\n",
       "    <tr>\n",
       "      <th>2</th>\n",
       "      <td>3</td>\n",
       "      <td>Split</td>\n",
       "      <td>Horror,Thriller</td>\n",
       "      <td>Three girls are kidnapped by a man with a diag...</td>\n",
       "      <td>M. Night Shyamalan</td>\n",
       "      <td>James McAvoy, Anya Taylor-Joy, Haley Lu Richar...</td>\n",
       "      <td>2016</td>\n",
       "      <td>117</td>\n",
       "      <td>7.3</td>\n",
       "      <td>157606</td>\n",
       "      <td>138.12</td>\n",
       "      <td>62.0</td>\n",
       "    </tr>\n",
       "    <tr>\n",
       "      <th>3</th>\n",
       "      <td>4</td>\n",
       "      <td>Sing</td>\n",
       "      <td>Animation,Comedy,Family</td>\n",
       "      <td>In a city of humanoid animals, a hustling thea...</td>\n",
       "      <td>Christophe Lourdelet</td>\n",
       "      <td>Matthew McConaughey,Reese Witherspoon, Seth Ma...</td>\n",
       "      <td>2016</td>\n",
       "      <td>108</td>\n",
       "      <td>7.2</td>\n",
       "      <td>60545</td>\n",
       "      <td>270.32</td>\n",
       "      <td>59.0</td>\n",
       "    </tr>\n",
       "    <tr>\n",
       "      <th>4</th>\n",
       "      <td>5</td>\n",
       "      <td>Suicide Squad</td>\n",
       "      <td>Action,Adventure,Fantasy</td>\n",
       "      <td>A secret government agency recruits some of th...</td>\n",
       "      <td>David Ayer</td>\n",
       "      <td>Will Smith, Jared Leto, Margot Robbie, Viola D...</td>\n",
       "      <td>2016</td>\n",
       "      <td>123</td>\n",
       "      <td>6.2</td>\n",
       "      <td>393727</td>\n",
       "      <td>325.02</td>\n",
       "      <td>40.0</td>\n",
       "    </tr>\n",
       "    <tr>\n",
       "      <th>...</th>\n",
       "      <td>...</td>\n",
       "      <td>...</td>\n",
       "      <td>...</td>\n",
       "      <td>...</td>\n",
       "      <td>...</td>\n",
       "      <td>...</td>\n",
       "      <td>...</td>\n",
       "      <td>...</td>\n",
       "      <td>...</td>\n",
       "      <td>...</td>\n",
       "      <td>...</td>\n",
       "      <td>...</td>\n",
       "    </tr>\n",
       "    <tr>\n",
       "      <th>993</th>\n",
       "      <td>994</td>\n",
       "      <td>Resident Evil: Afterlife</td>\n",
       "      <td>Action,Adventure,Horror</td>\n",
       "      <td>While still out to destroy the evil Umbrella C...</td>\n",
       "      <td>Paul W.S. Anderson</td>\n",
       "      <td>Milla Jovovich, Ali Larter, Wentworth Miller,K...</td>\n",
       "      <td>2010</td>\n",
       "      <td>97</td>\n",
       "      <td>5.9</td>\n",
       "      <td>140900</td>\n",
       "      <td>60.13</td>\n",
       "      <td>37.0</td>\n",
       "    </tr>\n",
       "    <tr>\n",
       "      <th>994</th>\n",
       "      <td>995</td>\n",
       "      <td>Project X</td>\n",
       "      <td>Comedy</td>\n",
       "      <td>3 high school seniors throw a birthday party t...</td>\n",
       "      <td>Nima Nourizadeh</td>\n",
       "      <td>Thomas Mann, Oliver Cooper, Jonathan Daniel Br...</td>\n",
       "      <td>2012</td>\n",
       "      <td>88</td>\n",
       "      <td>6.7</td>\n",
       "      <td>164088</td>\n",
       "      <td>54.72</td>\n",
       "      <td>48.0</td>\n",
       "    </tr>\n",
       "    <tr>\n",
       "      <th>996</th>\n",
       "      <td>997</td>\n",
       "      <td>Hostel: Part II</td>\n",
       "      <td>Horror</td>\n",
       "      <td>Three American college students studying abroa...</td>\n",
       "      <td>Eli Roth</td>\n",
       "      <td>Lauren German, Heather Matarazzo, Bijou Philli...</td>\n",
       "      <td>2007</td>\n",
       "      <td>94</td>\n",
       "      <td>5.5</td>\n",
       "      <td>73152</td>\n",
       "      <td>17.54</td>\n",
       "      <td>46.0</td>\n",
       "    </tr>\n",
       "    <tr>\n",
       "      <th>997</th>\n",
       "      <td>998</td>\n",
       "      <td>Step Up 2: The Streets</td>\n",
       "      <td>Drama,Music,Romance</td>\n",
       "      <td>Romantic sparks occur between two dance studen...</td>\n",
       "      <td>Jon M. Chu</td>\n",
       "      <td>Robert Hoffman, Briana Evigan, Cassie Ventura,...</td>\n",
       "      <td>2008</td>\n",
       "      <td>98</td>\n",
       "      <td>6.2</td>\n",
       "      <td>70699</td>\n",
       "      <td>58.01</td>\n",
       "      <td>50.0</td>\n",
       "    </tr>\n",
       "    <tr>\n",
       "      <th>999</th>\n",
       "      <td>1000</td>\n",
       "      <td>Nine Lives</td>\n",
       "      <td>Comedy,Family,Fantasy</td>\n",
       "      <td>A stuffy businessman finds himself trapped ins...</td>\n",
       "      <td>Barry Sonnenfeld</td>\n",
       "      <td>Kevin Spacey, Jennifer Garner, Robbie Amell,Ch...</td>\n",
       "      <td>2016</td>\n",
       "      <td>87</td>\n",
       "      <td>5.3</td>\n",
       "      <td>12435</td>\n",
       "      <td>19.64</td>\n",
       "      <td>11.0</td>\n",
       "    </tr>\n",
       "  </tbody>\n",
       "</table>\n",
       "<p>838 rows × 12 columns</p>\n",
       "</div>"
      ],
      "text/plain": [
       "     Rank                     Title                     Genre  \\\n",
       "0       1   Guardians of the Galaxy   Action,Adventure,Sci-Fi   \n",
       "1       2                Prometheus  Adventure,Mystery,Sci-Fi   \n",
       "2       3                     Split           Horror,Thriller   \n",
       "3       4                      Sing   Animation,Comedy,Family   \n",
       "4       5             Suicide Squad  Action,Adventure,Fantasy   \n",
       "..    ...                       ...                       ...   \n",
       "993   994  Resident Evil: Afterlife   Action,Adventure,Horror   \n",
       "994   995                 Project X                    Comedy   \n",
       "996   997           Hostel: Part II                    Horror   \n",
       "997   998    Step Up 2: The Streets       Drama,Music,Romance   \n",
       "999  1000                Nine Lives     Comedy,Family,Fantasy   \n",
       "\n",
       "                                           Description              Director  \\\n",
       "0    A group of intergalactic criminals are forced ...            James Gunn   \n",
       "1    Following clues to the origin of mankind, a te...          Ridley Scott   \n",
       "2    Three girls are kidnapped by a man with a diag...    M. Night Shyamalan   \n",
       "3    In a city of humanoid animals, a hustling thea...  Christophe Lourdelet   \n",
       "4    A secret government agency recruits some of th...            David Ayer   \n",
       "..                                                 ...                   ...   \n",
       "993  While still out to destroy the evil Umbrella C...    Paul W.S. Anderson   \n",
       "994  3 high school seniors throw a birthday party t...       Nima Nourizadeh   \n",
       "996  Three American college students studying abroa...              Eli Roth   \n",
       "997  Romantic sparks occur between two dance studen...            Jon M. Chu   \n",
       "999  A stuffy businessman finds himself trapped ins...      Barry Sonnenfeld   \n",
       "\n",
       "                                                Actors  Year  \\\n",
       "0    Chris Pratt, Vin Diesel, Bradley Cooper, Zoe S...  2014   \n",
       "1    Noomi Rapace, Logan Marshall-Green, Michael Fa...  2012   \n",
       "2    James McAvoy, Anya Taylor-Joy, Haley Lu Richar...  2016   \n",
       "3    Matthew McConaughey,Reese Witherspoon, Seth Ma...  2016   \n",
       "4    Will Smith, Jared Leto, Margot Robbie, Viola D...  2016   \n",
       "..                                                 ...   ...   \n",
       "993  Milla Jovovich, Ali Larter, Wentworth Miller,K...  2010   \n",
       "994  Thomas Mann, Oliver Cooper, Jonathan Daniel Br...  2012   \n",
       "996  Lauren German, Heather Matarazzo, Bijou Philli...  2007   \n",
       "997  Robert Hoffman, Briana Evigan, Cassie Ventura,...  2008   \n",
       "999  Kevin Spacey, Jennifer Garner, Robbie Amell,Ch...  2016   \n",
       "\n",
       "     Runtime (Minutes)  Rating   Votes  Revenue (Millions)  Metascore  \n",
       "0                  121     8.1  757074              333.13       76.0  \n",
       "1                  124     7.0  485820              126.46       65.0  \n",
       "2                  117     7.3  157606              138.12       62.0  \n",
       "3                  108     7.2   60545              270.32       59.0  \n",
       "4                  123     6.2  393727              325.02       40.0  \n",
       "..                 ...     ...     ...                 ...        ...  \n",
       "993                 97     5.9  140900               60.13       37.0  \n",
       "994                 88     6.7  164088               54.72       48.0  \n",
       "996                 94     5.5   73152               17.54       46.0  \n",
       "997                 98     6.2   70699               58.01       50.0  \n",
       "999                 87     5.3   12435               19.64       11.0  \n",
       "\n",
       "[838 rows x 12 columns]"
      ]
     },
     "execution_count": 9,
     "metadata": {},
     "output_type": "execute_result"
    }
   ],
   "source": [
    "films.dropna(axis=0)"
   ]
  },
  {
   "cell_type": "markdown",
   "id": "27d54edb",
   "metadata": {
    "papermill": {
     "duration": 0.055291,
     "end_time": "2022-08-23T17:48:08.267173",
     "exception": false,
     "start_time": "2022-08-23T17:48:08.211882",
     "status": "completed"
    },
    "tags": []
   },
   "source": [
    "###  Check For Duplicate Data"
   ]
  },
  {
   "cell_type": "code",
   "execution_count": 10,
   "id": "925e2915",
   "metadata": {
    "execution": {
     "iopub.execute_input": "2022-08-23T17:48:08.383179Z",
     "iopub.status.busy": "2022-08-23T17:48:08.382736Z",
     "iopub.status.idle": "2022-08-23T17:48:08.396750Z",
     "shell.execute_reply": "2022-08-23T17:48:08.395916Z"
    },
    "papermill": {
     "duration": 0.074559,
     "end_time": "2022-08-23T17:48:08.399210",
     "exception": false,
     "start_time": "2022-08-23T17:48:08.324651",
     "status": "completed"
    },
    "tags": []
   },
   "outputs": [],
   "source": [
    "films_dup=films.duplicated().any()"
   ]
  },
  {
   "cell_type": "code",
   "execution_count": 11,
   "id": "27ff084d",
   "metadata": {
    "execution": {
     "iopub.execute_input": "2022-08-23T17:48:08.514510Z",
     "iopub.status.busy": "2022-08-23T17:48:08.513981Z",
     "iopub.status.idle": "2022-08-23T17:48:08.518182Z",
     "shell.execute_reply": "2022-08-23T17:48:08.517568Z"
    },
    "papermill": {
     "duration": 0.064304,
     "end_time": "2022-08-23T17:48:08.520453",
     "exception": false,
     "start_time": "2022-08-23T17:48:08.456149",
     "status": "completed"
    },
    "tags": []
   },
   "outputs": [
    {
     "name": "stdout",
     "output_type": "stream",
     "text": [
      "Checking duplicate values:  False\n"
     ]
    }
   ],
   "source": [
    "print(\"Checking duplicate values: \",films_dup)"
   ]
  },
  {
   "cell_type": "code",
   "execution_count": 12,
   "id": "b5c269ca",
   "metadata": {
    "execution": {
     "iopub.execute_input": "2022-08-23T17:48:08.636825Z",
     "iopub.status.busy": "2022-08-23T17:48:08.636266Z",
     "iopub.status.idle": "2022-08-23T17:48:08.661347Z",
     "shell.execute_reply": "2022-08-23T17:48:08.660671Z"
    },
    "papermill": {
     "duration": 0.085073,
     "end_time": "2022-08-23T17:48:08.663294",
     "exception": false,
     "start_time": "2022-08-23T17:48:08.578221",
     "status": "completed"
    },
    "tags": []
   },
   "outputs": [
    {
     "data": {
      "text/html": [
       "<div>\n",
       "<style scoped>\n",
       "    .dataframe tbody tr th:only-of-type {\n",
       "        vertical-align: middle;\n",
       "    }\n",
       "\n",
       "    .dataframe tbody tr th {\n",
       "        vertical-align: top;\n",
       "    }\n",
       "\n",
       "    .dataframe thead th {\n",
       "        text-align: right;\n",
       "    }\n",
       "</style>\n",
       "<table border=\"1\" class=\"dataframe\">\n",
       "  <thead>\n",
       "    <tr style=\"text-align: right;\">\n",
       "      <th></th>\n",
       "      <th>Rank</th>\n",
       "      <th>Title</th>\n",
       "      <th>Genre</th>\n",
       "      <th>Description</th>\n",
       "      <th>Director</th>\n",
       "      <th>Actors</th>\n",
       "      <th>Year</th>\n",
       "      <th>Runtime (Minutes)</th>\n",
       "      <th>Rating</th>\n",
       "      <th>Votes</th>\n",
       "      <th>Revenue (Millions)</th>\n",
       "      <th>Metascore</th>\n",
       "    </tr>\n",
       "  </thead>\n",
       "  <tbody>\n",
       "    <tr>\n",
       "      <th>0</th>\n",
       "      <td>1</td>\n",
       "      <td>Guardians of the Galaxy</td>\n",
       "      <td>Action,Adventure,Sci-Fi</td>\n",
       "      <td>A group of intergalactic criminals are forced ...</td>\n",
       "      <td>James Gunn</td>\n",
       "      <td>Chris Pratt, Vin Diesel, Bradley Cooper, Zoe S...</td>\n",
       "      <td>2014</td>\n",
       "      <td>121</td>\n",
       "      <td>8.1</td>\n",
       "      <td>757074</td>\n",
       "      <td>333.13</td>\n",
       "      <td>76.0</td>\n",
       "    </tr>\n",
       "    <tr>\n",
       "      <th>1</th>\n",
       "      <td>2</td>\n",
       "      <td>Prometheus</td>\n",
       "      <td>Adventure,Mystery,Sci-Fi</td>\n",
       "      <td>Following clues to the origin of mankind, a te...</td>\n",
       "      <td>Ridley Scott</td>\n",
       "      <td>Noomi Rapace, Logan Marshall-Green, Michael Fa...</td>\n",
       "      <td>2012</td>\n",
       "      <td>124</td>\n",
       "      <td>7.0</td>\n",
       "      <td>485820</td>\n",
       "      <td>126.46</td>\n",
       "      <td>65.0</td>\n",
       "    </tr>\n",
       "    <tr>\n",
       "      <th>2</th>\n",
       "      <td>3</td>\n",
       "      <td>Split</td>\n",
       "      <td>Horror,Thriller</td>\n",
       "      <td>Three girls are kidnapped by a man with a diag...</td>\n",
       "      <td>M. Night Shyamalan</td>\n",
       "      <td>James McAvoy, Anya Taylor-Joy, Haley Lu Richar...</td>\n",
       "      <td>2016</td>\n",
       "      <td>117</td>\n",
       "      <td>7.3</td>\n",
       "      <td>157606</td>\n",
       "      <td>138.12</td>\n",
       "      <td>62.0</td>\n",
       "    </tr>\n",
       "    <tr>\n",
       "      <th>3</th>\n",
       "      <td>4</td>\n",
       "      <td>Sing</td>\n",
       "      <td>Animation,Comedy,Family</td>\n",
       "      <td>In a city of humanoid animals, a hustling thea...</td>\n",
       "      <td>Christophe Lourdelet</td>\n",
       "      <td>Matthew McConaughey,Reese Witherspoon, Seth Ma...</td>\n",
       "      <td>2016</td>\n",
       "      <td>108</td>\n",
       "      <td>7.2</td>\n",
       "      <td>60545</td>\n",
       "      <td>270.32</td>\n",
       "      <td>59.0</td>\n",
       "    </tr>\n",
       "    <tr>\n",
       "      <th>4</th>\n",
       "      <td>5</td>\n",
       "      <td>Suicide Squad</td>\n",
       "      <td>Action,Adventure,Fantasy</td>\n",
       "      <td>A secret government agency recruits some of th...</td>\n",
       "      <td>David Ayer</td>\n",
       "      <td>Will Smith, Jared Leto, Margot Robbie, Viola D...</td>\n",
       "      <td>2016</td>\n",
       "      <td>123</td>\n",
       "      <td>6.2</td>\n",
       "      <td>393727</td>\n",
       "      <td>325.02</td>\n",
       "      <td>40.0</td>\n",
       "    </tr>\n",
       "    <tr>\n",
       "      <th>...</th>\n",
       "      <td>...</td>\n",
       "      <td>...</td>\n",
       "      <td>...</td>\n",
       "      <td>...</td>\n",
       "      <td>...</td>\n",
       "      <td>...</td>\n",
       "      <td>...</td>\n",
       "      <td>...</td>\n",
       "      <td>...</td>\n",
       "      <td>...</td>\n",
       "      <td>...</td>\n",
       "      <td>...</td>\n",
       "    </tr>\n",
       "    <tr>\n",
       "      <th>995</th>\n",
       "      <td>996</td>\n",
       "      <td>Secret in Their Eyes</td>\n",
       "      <td>Crime,Drama,Mystery</td>\n",
       "      <td>A tight-knit team of rising investigators, alo...</td>\n",
       "      <td>Billy Ray</td>\n",
       "      <td>Chiwetel Ejiofor, Nicole Kidman, Julia Roberts...</td>\n",
       "      <td>2015</td>\n",
       "      <td>111</td>\n",
       "      <td>6.2</td>\n",
       "      <td>27585</td>\n",
       "      <td>NaN</td>\n",
       "      <td>45.0</td>\n",
       "    </tr>\n",
       "    <tr>\n",
       "      <th>996</th>\n",
       "      <td>997</td>\n",
       "      <td>Hostel: Part II</td>\n",
       "      <td>Horror</td>\n",
       "      <td>Three American college students studying abroa...</td>\n",
       "      <td>Eli Roth</td>\n",
       "      <td>Lauren German, Heather Matarazzo, Bijou Philli...</td>\n",
       "      <td>2007</td>\n",
       "      <td>94</td>\n",
       "      <td>5.5</td>\n",
       "      <td>73152</td>\n",
       "      <td>17.54</td>\n",
       "      <td>46.0</td>\n",
       "    </tr>\n",
       "    <tr>\n",
       "      <th>997</th>\n",
       "      <td>998</td>\n",
       "      <td>Step Up 2: The Streets</td>\n",
       "      <td>Drama,Music,Romance</td>\n",
       "      <td>Romantic sparks occur between two dance studen...</td>\n",
       "      <td>Jon M. Chu</td>\n",
       "      <td>Robert Hoffman, Briana Evigan, Cassie Ventura,...</td>\n",
       "      <td>2008</td>\n",
       "      <td>98</td>\n",
       "      <td>6.2</td>\n",
       "      <td>70699</td>\n",
       "      <td>58.01</td>\n",
       "      <td>50.0</td>\n",
       "    </tr>\n",
       "    <tr>\n",
       "      <th>998</th>\n",
       "      <td>999</td>\n",
       "      <td>Search Party</td>\n",
       "      <td>Adventure,Comedy</td>\n",
       "      <td>A pair of friends embark on a mission to reuni...</td>\n",
       "      <td>Scot Armstrong</td>\n",
       "      <td>Adam Pally, T.J. Miller, Thomas Middleditch,Sh...</td>\n",
       "      <td>2014</td>\n",
       "      <td>93</td>\n",
       "      <td>5.6</td>\n",
       "      <td>4881</td>\n",
       "      <td>NaN</td>\n",
       "      <td>22.0</td>\n",
       "    </tr>\n",
       "    <tr>\n",
       "      <th>999</th>\n",
       "      <td>1000</td>\n",
       "      <td>Nine Lives</td>\n",
       "      <td>Comedy,Family,Fantasy</td>\n",
       "      <td>A stuffy businessman finds himself trapped ins...</td>\n",
       "      <td>Barry Sonnenfeld</td>\n",
       "      <td>Kevin Spacey, Jennifer Garner, Robbie Amell,Ch...</td>\n",
       "      <td>2016</td>\n",
       "      <td>87</td>\n",
       "      <td>5.3</td>\n",
       "      <td>12435</td>\n",
       "      <td>19.64</td>\n",
       "      <td>11.0</td>\n",
       "    </tr>\n",
       "  </tbody>\n",
       "</table>\n",
       "<p>1000 rows × 12 columns</p>\n",
       "</div>"
      ],
      "text/plain": [
       "     Rank                    Title                     Genre  \\\n",
       "0       1  Guardians of the Galaxy   Action,Adventure,Sci-Fi   \n",
       "1       2               Prometheus  Adventure,Mystery,Sci-Fi   \n",
       "2       3                    Split           Horror,Thriller   \n",
       "3       4                     Sing   Animation,Comedy,Family   \n",
       "4       5            Suicide Squad  Action,Adventure,Fantasy   \n",
       "..    ...                      ...                       ...   \n",
       "995   996     Secret in Their Eyes       Crime,Drama,Mystery   \n",
       "996   997          Hostel: Part II                    Horror   \n",
       "997   998   Step Up 2: The Streets       Drama,Music,Romance   \n",
       "998   999             Search Party          Adventure,Comedy   \n",
       "999  1000               Nine Lives     Comedy,Family,Fantasy   \n",
       "\n",
       "                                           Description              Director  \\\n",
       "0    A group of intergalactic criminals are forced ...            James Gunn   \n",
       "1    Following clues to the origin of mankind, a te...          Ridley Scott   \n",
       "2    Three girls are kidnapped by a man with a diag...    M. Night Shyamalan   \n",
       "3    In a city of humanoid animals, a hustling thea...  Christophe Lourdelet   \n",
       "4    A secret government agency recruits some of th...            David Ayer   \n",
       "..                                                 ...                   ...   \n",
       "995  A tight-knit team of rising investigators, alo...             Billy Ray   \n",
       "996  Three American college students studying abroa...              Eli Roth   \n",
       "997  Romantic sparks occur between two dance studen...            Jon M. Chu   \n",
       "998  A pair of friends embark on a mission to reuni...        Scot Armstrong   \n",
       "999  A stuffy businessman finds himself trapped ins...      Barry Sonnenfeld   \n",
       "\n",
       "                                                Actors  Year  \\\n",
       "0    Chris Pratt, Vin Diesel, Bradley Cooper, Zoe S...  2014   \n",
       "1    Noomi Rapace, Logan Marshall-Green, Michael Fa...  2012   \n",
       "2    James McAvoy, Anya Taylor-Joy, Haley Lu Richar...  2016   \n",
       "3    Matthew McConaughey,Reese Witherspoon, Seth Ma...  2016   \n",
       "4    Will Smith, Jared Leto, Margot Robbie, Viola D...  2016   \n",
       "..                                                 ...   ...   \n",
       "995  Chiwetel Ejiofor, Nicole Kidman, Julia Roberts...  2015   \n",
       "996  Lauren German, Heather Matarazzo, Bijou Philli...  2007   \n",
       "997  Robert Hoffman, Briana Evigan, Cassie Ventura,...  2008   \n",
       "998  Adam Pally, T.J. Miller, Thomas Middleditch,Sh...  2014   \n",
       "999  Kevin Spacey, Jennifer Garner, Robbie Amell,Ch...  2016   \n",
       "\n",
       "     Runtime (Minutes)  Rating   Votes  Revenue (Millions)  Metascore  \n",
       "0                  121     8.1  757074              333.13       76.0  \n",
       "1                  124     7.0  485820              126.46       65.0  \n",
       "2                  117     7.3  157606              138.12       62.0  \n",
       "3                  108     7.2   60545              270.32       59.0  \n",
       "4                  123     6.2  393727              325.02       40.0  \n",
       "..                 ...     ...     ...                 ...        ...  \n",
       "995                111     6.2   27585                 NaN       45.0  \n",
       "996                 94     5.5   73152               17.54       46.0  \n",
       "997                 98     6.2   70699               58.01       50.0  \n",
       "998                 93     5.6    4881                 NaN       22.0  \n",
       "999                 87     5.3   12435               19.64       11.0  \n",
       "\n",
       "[1000 rows x 12 columns]"
      ]
     },
     "execution_count": 12,
     "metadata": {},
     "output_type": "execute_result"
    }
   ],
   "source": [
    "films.drop_duplicates()"
   ]
  },
  {
   "cell_type": "markdown",
   "id": "cf7c008f",
   "metadata": {
    "papermill": {
     "duration": 0.058054,
     "end_time": "2022-08-23T17:48:08.779726",
     "exception": false,
     "start_time": "2022-08-23T17:48:08.721672",
     "status": "completed"
    },
    "tags": []
   },
   "source": [
    "### Get Overall Statistics About The DataFrame"
   ]
  },
  {
   "cell_type": "code",
   "execution_count": 13,
   "id": "8794e71a",
   "metadata": {
    "execution": {
     "iopub.execute_input": "2022-08-23T17:48:08.895438Z",
     "iopub.status.busy": "2022-08-23T17:48:08.895022Z",
     "iopub.status.idle": "2022-08-23T17:48:08.928326Z",
     "shell.execute_reply": "2022-08-23T17:48:08.927675Z"
    },
    "papermill": {
     "duration": 0.09336,
     "end_time": "2022-08-23T17:48:08.930227",
     "exception": false,
     "start_time": "2022-08-23T17:48:08.836867",
     "status": "completed"
    },
    "tags": []
   },
   "outputs": [
    {
     "data": {
      "text/html": [
       "<div>\n",
       "<style scoped>\n",
       "    .dataframe tbody tr th:only-of-type {\n",
       "        vertical-align: middle;\n",
       "    }\n",
       "\n",
       "    .dataframe tbody tr th {\n",
       "        vertical-align: top;\n",
       "    }\n",
       "\n",
       "    .dataframe thead th {\n",
       "        text-align: right;\n",
       "    }\n",
       "</style>\n",
       "<table border=\"1\" class=\"dataframe\">\n",
       "  <thead>\n",
       "    <tr style=\"text-align: right;\">\n",
       "      <th></th>\n",
       "      <th>Rank</th>\n",
       "      <th>Year</th>\n",
       "      <th>Runtime (Minutes)</th>\n",
       "      <th>Rating</th>\n",
       "      <th>Votes</th>\n",
       "      <th>Revenue (Millions)</th>\n",
       "      <th>Metascore</th>\n",
       "    </tr>\n",
       "  </thead>\n",
       "  <tbody>\n",
       "    <tr>\n",
       "      <th>count</th>\n",
       "      <td>1000.000000</td>\n",
       "      <td>1000.000000</td>\n",
       "      <td>1000.000000</td>\n",
       "      <td>1000.000000</td>\n",
       "      <td>1.000000e+03</td>\n",
       "      <td>872.000000</td>\n",
       "      <td>936.000000</td>\n",
       "    </tr>\n",
       "    <tr>\n",
       "      <th>mean</th>\n",
       "      <td>500.500000</td>\n",
       "      <td>2012.783000</td>\n",
       "      <td>113.172000</td>\n",
       "      <td>6.723200</td>\n",
       "      <td>1.698083e+05</td>\n",
       "      <td>82.956376</td>\n",
       "      <td>58.985043</td>\n",
       "    </tr>\n",
       "    <tr>\n",
       "      <th>std</th>\n",
       "      <td>288.819436</td>\n",
       "      <td>3.205962</td>\n",
       "      <td>18.810908</td>\n",
       "      <td>0.945429</td>\n",
       "      <td>1.887626e+05</td>\n",
       "      <td>103.253540</td>\n",
       "      <td>17.194757</td>\n",
       "    </tr>\n",
       "    <tr>\n",
       "      <th>min</th>\n",
       "      <td>1.000000</td>\n",
       "      <td>2006.000000</td>\n",
       "      <td>66.000000</td>\n",
       "      <td>1.900000</td>\n",
       "      <td>6.100000e+01</td>\n",
       "      <td>0.000000</td>\n",
       "      <td>11.000000</td>\n",
       "    </tr>\n",
       "    <tr>\n",
       "      <th>25%</th>\n",
       "      <td>250.750000</td>\n",
       "      <td>2010.000000</td>\n",
       "      <td>100.000000</td>\n",
       "      <td>6.200000</td>\n",
       "      <td>3.630900e+04</td>\n",
       "      <td>13.270000</td>\n",
       "      <td>47.000000</td>\n",
       "    </tr>\n",
       "    <tr>\n",
       "      <th>50%</th>\n",
       "      <td>500.500000</td>\n",
       "      <td>2014.000000</td>\n",
       "      <td>111.000000</td>\n",
       "      <td>6.800000</td>\n",
       "      <td>1.107990e+05</td>\n",
       "      <td>47.985000</td>\n",
       "      <td>59.500000</td>\n",
       "    </tr>\n",
       "    <tr>\n",
       "      <th>75%</th>\n",
       "      <td>750.250000</td>\n",
       "      <td>2016.000000</td>\n",
       "      <td>123.000000</td>\n",
       "      <td>7.400000</td>\n",
       "      <td>2.399098e+05</td>\n",
       "      <td>113.715000</td>\n",
       "      <td>72.000000</td>\n",
       "    </tr>\n",
       "    <tr>\n",
       "      <th>max</th>\n",
       "      <td>1000.000000</td>\n",
       "      <td>2016.000000</td>\n",
       "      <td>191.000000</td>\n",
       "      <td>9.000000</td>\n",
       "      <td>1.791916e+06</td>\n",
       "      <td>936.630000</td>\n",
       "      <td>100.000000</td>\n",
       "    </tr>\n",
       "  </tbody>\n",
       "</table>\n",
       "</div>"
      ],
      "text/plain": [
       "              Rank         Year  Runtime (Minutes)       Rating         Votes  \\\n",
       "count  1000.000000  1000.000000        1000.000000  1000.000000  1.000000e+03   \n",
       "mean    500.500000  2012.783000         113.172000     6.723200  1.698083e+05   \n",
       "std     288.819436     3.205962          18.810908     0.945429  1.887626e+05   \n",
       "min       1.000000  2006.000000          66.000000     1.900000  6.100000e+01   \n",
       "25%     250.750000  2010.000000         100.000000     6.200000  3.630900e+04   \n",
       "50%     500.500000  2014.000000         111.000000     6.800000  1.107990e+05   \n",
       "75%     750.250000  2016.000000         123.000000     7.400000  2.399098e+05   \n",
       "max    1000.000000  2016.000000         191.000000     9.000000  1.791916e+06   \n",
       "\n",
       "       Revenue (Millions)   Metascore  \n",
       "count          872.000000  936.000000  \n",
       "mean            82.956376   58.985043  \n",
       "std            103.253540   17.194757  \n",
       "min              0.000000   11.000000  \n",
       "25%             13.270000   47.000000  \n",
       "50%             47.985000   59.500000  \n",
       "75%            113.715000   72.000000  \n",
       "max            936.630000  100.000000  "
      ]
     },
     "execution_count": 13,
     "metadata": {},
     "output_type": "execute_result"
    }
   ],
   "source": [
    "films.describe()"
   ]
  },
  {
   "cell_type": "markdown",
   "id": "3fea5e06",
   "metadata": {
    "papermill": {
     "duration": 0.057128,
     "end_time": "2022-08-23T17:48:09.045695",
     "exception": false,
     "start_time": "2022-08-23T17:48:08.988567",
     "status": "completed"
    },
    "tags": []
   },
   "source": [
    "### Display Title of The Movie Having Runtime Greater Than or equal to 180 Minutes"
   ]
  },
  {
   "cell_type": "code",
   "execution_count": 14,
   "id": "050b4915",
   "metadata": {
    "execution": {
     "iopub.execute_input": "2022-08-23T17:48:09.164296Z",
     "iopub.status.busy": "2022-08-23T17:48:09.163897Z",
     "iopub.status.idle": "2022-08-23T17:48:09.171672Z",
     "shell.execute_reply": "2022-08-23T17:48:09.170949Z"
    },
    "papermill": {
     "duration": 0.070652,
     "end_time": "2022-08-23T17:48:09.174349",
     "exception": false,
     "start_time": "2022-08-23T17:48:09.103697",
     "status": "completed"
    },
    "tags": []
   },
   "outputs": [
    {
     "data": {
      "text/plain": [
       "82     The Wolf of Wall Street\n",
       "88           The Hateful Eight\n",
       "311             La vie d'Adèle\n",
       "828                 Grindhouse\n",
       "965              Inland Empire\n",
       "Name: Title, dtype: object"
      ]
     },
     "execution_count": 14,
     "metadata": {},
     "output_type": "execute_result"
    }
   ],
   "source": [
    "films[films[\"Runtime (Minutes)\"]>=180][\"Title\"]"
   ]
  },
  {
   "cell_type": "markdown",
   "id": "d96af0d8",
   "metadata": {
    "papermill": {
     "duration": 0.059061,
     "end_time": "2022-08-23T17:48:09.293410",
     "exception": false,
     "start_time": "2022-08-23T17:48:09.234349",
     "status": "completed"
    },
    "tags": []
   },
   "source": [
    "###  In Which Year There Was The Highest Average Voting?"
   ]
  },
  {
   "cell_type": "code",
   "execution_count": 15,
   "id": "fa9053fc",
   "metadata": {
    "execution": {
     "iopub.execute_input": "2022-08-23T17:48:09.411412Z",
     "iopub.status.busy": "2022-08-23T17:48:09.410822Z",
     "iopub.status.idle": "2022-08-23T17:48:09.421418Z",
     "shell.execute_reply": "2022-08-23T17:48:09.420668Z"
    },
    "papermill": {
     "duration": 0.071811,
     "end_time": "2022-08-23T17:48:09.423420",
     "exception": false,
     "start_time": "2022-08-23T17:48:09.351609",
     "status": "completed"
    },
    "scrolled": true,
    "tags": []
   },
   "outputs": [
    {
     "data": {
      "text/plain": [
       "Year\n",
       "2012    285226.093750\n",
       "2008    275505.384615\n",
       "2006    269289.954545\n",
       "2009    255780.647059\n",
       "2010    252782.316667\n",
       "2007    244331.037736\n",
       "2011    240790.301587\n",
       "2013    219049.648352\n",
       "2014    203930.224490\n",
       "2015    115726.220472\n",
       "2016     48591.754209\n",
       "Name: Votes, dtype: float64"
      ]
     },
     "execution_count": 15,
     "metadata": {},
     "output_type": "execute_result"
    }
   ],
   "source": [
    "films.groupby(\"Year\")[\"Votes\"].mean().sort_values(ascending=False)"
   ]
  },
  {
   "cell_type": "code",
   "execution_count": 16,
   "id": "e02d1294",
   "metadata": {
    "execution": {
     "iopub.execute_input": "2022-08-23T17:48:09.541140Z",
     "iopub.status.busy": "2022-08-23T17:48:09.540309Z",
     "iopub.status.idle": "2022-08-23T17:48:09.940273Z",
     "shell.execute_reply": "2022-08-23T17:48:09.939317Z"
    },
    "papermill": {
     "duration": 0.461336,
     "end_time": "2022-08-23T17:48:09.942742",
     "exception": false,
     "start_time": "2022-08-23T17:48:09.481406",
     "status": "completed"
    },
    "tags": []
   },
   "outputs": [
    {
     "data": {
      "image/png": "[encoded data removed]",
      "text/plain": [
       "<Figure size 1080x432 with 2 Axes>"
      ]
     },
     "metadata": {
      "needs_background": "light"
     },
     "output_type": "display_data"
    }
   ],
   "source": [
    "### Preparing the data for visualization\n",
    "highestvote=films.groupby(\"Year\")[\"Votes\"].mean().sort_values(ascending=False).reset_index()\n",
    "highestvoteyear=highestvote[\"Year\"].tolist()\n",
    "highestvotes=highestvote[\"Votes\"].tolist()\n",
    "# Pie Chart \n",
    "plt.figure(figsize=(15,6))\n",
    "plt.subplot(1,2,1)\n",
    "colors=sns.color_palette('hls')[0:8]\n",
    "explode=(0.2,0,0,0,0,0,0,0,0,0,0)\n",
    "plt.pie(highestvotes,labels=highestvoteyear,autopct='%1.1f%%',explode=explode,shadow=True,colors=colors)\n",
    "plt.title(\"The highest average voting over the years\")\n",
    "### Barplot \n",
    "plt.subplot(1,2,2)\n",
    "sns.barplot(x=\"Year\",y=\"Votes\",data=highestvote,palette=colors)\n",
    "plt.title(\"The highest average voting over the years\")\n",
    "plt.show()"
   ]
  },
  {
   "cell_type": "markdown",
   "id": "f8ad1e44",
   "metadata": {
    "papermill": {
     "duration": 0.059137,
     "end_time": "2022-08-23T17:48:10.062255",
     "exception": false,
     "start_time": "2022-08-23T17:48:10.003118",
     "status": "completed"
    },
    "tags": []
   },
   "source": [
    "### In Which Year There Was The Highest Average Revenue?"
   ]
  },
  {
   "cell_type": "code",
   "execution_count": 17,
   "id": "5e30ea3f",
   "metadata": {
    "execution": {
     "iopub.execute_input": "2022-08-23T17:48:10.184636Z",
     "iopub.status.busy": "2022-08-23T17:48:10.184145Z",
     "iopub.status.idle": "2022-08-23T17:48:10.192474Z",
     "shell.execute_reply": "2022-08-23T17:48:10.191582Z"
    },
    "papermill": {
     "duration": 0.072706,
     "end_time": "2022-08-23T17:48:10.194527",
     "exception": false,
     "start_time": "2022-08-23T17:48:10.121821",
     "status": "completed"
    },
    "tags": []
   },
   "outputs": [
    {
     "data": {
      "text/plain": [
       "Year\n",
       "2009    112.601277\n",
       "2012    107.973281\n",
       "2010    105.081579\n",
       "2008     99.082745\n",
       "2007     87.882245\n",
       "2011     87.612258\n",
       "2013     87.121818\n",
       "2006     86.296667\n",
       "2014     85.078723\n",
       "2015     78.355044\n",
       "2016     54.690976\n",
       "Name: Revenue (Millions), dtype: float64"
      ]
     },
     "execution_count": 17,
     "metadata": {},
     "output_type": "execute_result"
    }
   ],
   "source": [
    "films.groupby(\"Year\")['Revenue (Millions)'].mean().sort_values(ascending=False)"
   ]
  },
  {
   "cell_type": "code",
   "execution_count": 18,
   "id": "3115c765",
   "metadata": {
    "execution": {
     "iopub.execute_input": "2022-08-23T17:48:10.318425Z",
     "iopub.status.busy": "2022-08-23T17:48:10.317949Z",
     "iopub.status.idle": "2022-08-23T17:48:10.690471Z",
     "shell.execute_reply": "2022-08-23T17:48:10.689799Z"
    },
    "papermill": {
     "duration": 0.436949,
     "end_time": "2022-08-23T17:48:10.692747",
     "exception": false,
     "start_time": "2022-08-23T17:48:10.255798",
     "status": "completed"
    },
    "tags": []
   },
   "outputs": [
    {
     "data": {
      "image/png": "[encoded data removed]",
      "text/plain": [
       "<Figure size 1080x432 with 2 Axes>"
      ]
     },
     "metadata": {
      "needs_background": "light"
     },
     "output_type": "display_data"
    }
   ],
   "source": [
    "### Preparing the data for visualization\n",
    "datarevenue=films.groupby(\"Year\")['Revenue (Millions)'].mean().sort_values(ascending=False).reset_index()\n",
    "datarevenuelabel=datarevenue['Year'].tolist()\n",
    "datarevenuere=datarevenue[\"Revenue (Millions)\"].tolist()\n",
    "### Pie\n",
    "plt.figure(figsize=(15,6))\n",
    "plt.subplot(1,2,1)\n",
    "explode=(0.2,0,0,0,0,0,0,0,0,0,0)\n",
    "colors=sns.color_palette('hls')[0:8]\n",
    "plt.pie(datarevenuere,labels=datarevenuelabel,autopct='%1.1f%%',shadow=True,explode=explode,colors=colors)\n",
    "plt.title(\"Revenue (Millions)\")\n",
    "### Barplot \n",
    "plt.subplot(1,2,2)\n",
    "sns.barplot(x=\"Year\",y=\"Revenue (Millions)\",data=datarevenue,palette=colors)\n",
    "plt.title(\"Revenue (Millions)\")\n",
    "plt.show()"
   ]
  },
  {
   "cell_type": "markdown",
   "id": "576b69b5",
   "metadata": {
    "papermill": {
     "duration": 0.061294,
     "end_time": "2022-08-23T17:48:10.816019",
     "exception": false,
     "start_time": "2022-08-23T17:48:10.754725",
     "status": "completed"
    },
    "tags": []
   },
   "source": [
    "### Find The Average Rating For Each Director"
   ]
  },
  {
   "cell_type": "code",
   "execution_count": 19,
   "id": "4a16ca5c",
   "metadata": {
    "execution": {
     "iopub.execute_input": "2022-08-23T17:48:10.945636Z",
     "iopub.status.busy": "2022-08-23T17:48:10.945067Z",
     "iopub.status.idle": "2022-08-23T17:48:10.958857Z",
     "shell.execute_reply": "2022-08-23T17:48:10.957842Z"
    },
    "papermill": {
     "duration": 0.081234,
     "end_time": "2022-08-23T17:48:10.961165",
     "exception": false,
     "start_time": "2022-08-23T17:48:10.879931",
     "status": "completed"
    },
    "tags": []
   },
   "outputs": [
    {
     "data": {
      "text/html": [
       "<div>\n",
       "<style scoped>\n",
       "    .dataframe tbody tr th:only-of-type {\n",
       "        vertical-align: middle;\n",
       "    }\n",
       "\n",
       "    .dataframe tbody tr th {\n",
       "        vertical-align: top;\n",
       "    }\n",
       "\n",
       "    .dataframe thead th {\n",
       "        text-align: right;\n",
       "    }\n",
       "</style>\n",
       "<table border=\"1\" class=\"dataframe\">\n",
       "  <thead>\n",
       "    <tr style=\"text-align: right;\">\n",
       "      <th></th>\n",
       "      <th>Director</th>\n",
       "      <th>Rating</th>\n",
       "    </tr>\n",
       "  </thead>\n",
       "  <tbody>\n",
       "    <tr>\n",
       "      <th>0</th>\n",
       "      <td>Nitesh Tiwari</td>\n",
       "      <td>8.80</td>\n",
       "    </tr>\n",
       "    <tr>\n",
       "      <th>1</th>\n",
       "      <td>Christopher Nolan</td>\n",
       "      <td>8.68</td>\n",
       "    </tr>\n",
       "    <tr>\n",
       "      <th>2</th>\n",
       "      <td>Olivier Nakache</td>\n",
       "      <td>8.60</td>\n",
       "    </tr>\n",
       "    <tr>\n",
       "      <th>3</th>\n",
       "      <td>Makoto Shinkai</td>\n",
       "      <td>8.60</td>\n",
       "    </tr>\n",
       "    <tr>\n",
       "      <th>4</th>\n",
       "      <td>Aamir Khan</td>\n",
       "      <td>8.50</td>\n",
       "    </tr>\n",
       "    <tr>\n",
       "      <th>5</th>\n",
       "      <td>Florian Henckel von Donnersmarck</td>\n",
       "      <td>8.50</td>\n",
       "    </tr>\n",
       "    <tr>\n",
       "      <th>6</th>\n",
       "      <td>Naoko Yamada</td>\n",
       "      <td>8.40</td>\n",
       "    </tr>\n",
       "    <tr>\n",
       "      <th>7</th>\n",
       "      <td>Damien Chazelle</td>\n",
       "      <td>8.40</td>\n",
       "    </tr>\n",
       "    <tr>\n",
       "      <th>8</th>\n",
       "      <td>Lee Unkrich</td>\n",
       "      <td>8.30</td>\n",
       "    </tr>\n",
       "    <tr>\n",
       "      <th>9</th>\n",
       "      <td>Amber Tamblyn</td>\n",
       "      <td>8.30</td>\n",
       "    </tr>\n",
       "  </tbody>\n",
       "</table>\n",
       "</div>"
      ],
      "text/plain": [
       "                           Director  Rating\n",
       "0                     Nitesh Tiwari    8.80\n",
       "1                 Christopher Nolan    8.68\n",
       "2                   Olivier Nakache    8.60\n",
       "3                    Makoto Shinkai    8.60\n",
       "4                        Aamir Khan    8.50\n",
       "5  Florian Henckel von Donnersmarck    8.50\n",
       "6                      Naoko Yamada    8.40\n",
       "7                   Damien Chazelle    8.40\n",
       "8                       Lee Unkrich    8.30\n",
       "9                     Amber Tamblyn    8.30"
      ]
     },
     "execution_count": 19,
     "metadata": {},
     "output_type": "execute_result"
    }
   ],
   "source": [
    "films.groupby(\"Director\")[\"Rating\"].mean().sort_values(ascending=False).reset_index().head(10)"
   ]
  },
  {
   "cell_type": "markdown",
   "id": "dbfd603b",
   "metadata": {
    "papermill": {
     "duration": 0.062778,
     "end_time": "2022-08-23T17:48:11.087109",
     "exception": false,
     "start_time": "2022-08-23T17:48:11.024331",
     "status": "completed"
    },
    "tags": []
   },
   "source": [
    "### The 10 longest films"
   ]
  },
  {
   "cell_type": "code",
   "execution_count": 20,
   "id": "4595048d",
   "metadata": {
    "execution": {
     "iopub.execute_input": "2022-08-23T17:48:11.218739Z",
     "iopub.status.busy": "2022-08-23T17:48:11.218181Z",
     "iopub.status.idle": "2022-08-23T17:48:11.230668Z",
     "shell.execute_reply": "2022-08-23T17:48:11.229736Z"
    },
    "papermill": {
     "duration": 0.081622,
     "end_time": "2022-08-23T17:48:11.232978",
     "exception": false,
     "start_time": "2022-08-23T17:48:11.151356",
     "status": "completed"
    },
    "tags": []
   },
   "outputs": [
    {
     "data": {
      "text/html": [
       "<div>\n",
       "<style scoped>\n",
       "    .dataframe tbody tr th:only-of-type {\n",
       "        vertical-align: middle;\n",
       "    }\n",
       "\n",
       "    .dataframe tbody tr th {\n",
       "        vertical-align: top;\n",
       "    }\n",
       "\n",
       "    .dataframe thead th {\n",
       "        text-align: right;\n",
       "    }\n",
       "</style>\n",
       "<table border=\"1\" class=\"dataframe\">\n",
       "  <thead>\n",
       "    <tr style=\"text-align: right;\">\n",
       "      <th></th>\n",
       "      <th>Title</th>\n",
       "      <th>Runtime (Minutes)</th>\n",
       "    </tr>\n",
       "  </thead>\n",
       "  <tbody>\n",
       "    <tr>\n",
       "      <th>828</th>\n",
       "      <td>Grindhouse</td>\n",
       "      <td>191</td>\n",
       "    </tr>\n",
       "    <tr>\n",
       "      <th>88</th>\n",
       "      <td>The Hateful Eight</td>\n",
       "      <td>187</td>\n",
       "    </tr>\n",
       "    <tr>\n",
       "      <th>82</th>\n",
       "      <td>The Wolf of Wall Street</td>\n",
       "      <td>180</td>\n",
       "    </tr>\n",
       "    <tr>\n",
       "      <th>311</th>\n",
       "      <td>La vie d'Adèle</td>\n",
       "      <td>180</td>\n",
       "    </tr>\n",
       "    <tr>\n",
       "      <th>965</th>\n",
       "      <td>Inland Empire</td>\n",
       "      <td>180</td>\n",
       "    </tr>\n",
       "    <tr>\n",
       "      <th>267</th>\n",
       "      <td>Cloud Atlas</td>\n",
       "      <td>172</td>\n",
       "    </tr>\n",
       "    <tr>\n",
       "      <th>430</th>\n",
       "      <td>3 Idiots</td>\n",
       "      <td>170</td>\n",
       "    </tr>\n",
       "    <tr>\n",
       "      <th>36</th>\n",
       "      <td>Interstellar</td>\n",
       "      <td>169</td>\n",
       "    </tr>\n",
       "    <tr>\n",
       "      <th>75</th>\n",
       "      <td>Pirates of the Caribbean: At World's End</td>\n",
       "      <td>169</td>\n",
       "    </tr>\n",
       "    <tr>\n",
       "      <th>271</th>\n",
       "      <td>The Hobbit: An Unexpected Journey</td>\n",
       "      <td>169</td>\n",
       "    </tr>\n",
       "  </tbody>\n",
       "</table>\n",
       "</div>"
      ],
      "text/plain": [
       "                                        Title  Runtime (Minutes)\n",
       "828                                Grindhouse                191\n",
       "88                          The Hateful Eight                187\n",
       "82                    The Wolf of Wall Street                180\n",
       "311                            La vie d'Adèle                180\n",
       "965                             Inland Empire                180\n",
       "267                               Cloud Atlas                172\n",
       "430                                  3 Idiots                170\n",
       "36                               Interstellar                169\n",
       "75   Pirates of the Caribbean: At World's End                169\n",
       "271         The Hobbit: An Unexpected Journey                169"
      ]
     },
     "execution_count": 20,
     "metadata": {},
     "output_type": "execute_result"
    }
   ],
   "source": [
    "films.nlargest(10,\"Runtime (Minutes)\")[[\"Title\",\"Runtime (Minutes)\"]]"
   ]
  },
  {
   "cell_type": "code",
   "execution_count": 21,
   "id": "eb9face9",
   "metadata": {
    "execution": {
     "iopub.execute_input": "2022-08-23T17:48:11.363288Z",
     "iopub.status.busy": "2022-08-23T17:48:11.363011Z",
     "iopub.status.idle": "2022-08-23T17:48:11.592250Z",
     "shell.execute_reply": "2022-08-23T17:48:11.591231Z"
    },
    "papermill": {
     "duration": 0.298133,
     "end_time": "2022-08-23T17:48:11.595004",
     "exception": false,
     "start_time": "2022-08-23T17:48:11.296871",
     "status": "completed"
    },
    "tags": []
   },
   "outputs": [
    {
     "data": {
      "text/plain": [
       "Text(0.5, 1.0, 'The 10 longest films')"
      ]
     },
     "execution_count": 21,
     "metadata": {},
     "output_type": "execute_result"
    },
    {
     "data": {
      "image/png": "[encoded data removed]",
      "text/plain": [
       "<Figure size 1080x432 with 1 Axes>"
      ]
     },
     "metadata": {},
     "output_type": "display_data"
    }
   ],
   "source": [
    "### Preparing the data for visualization\n",
    "filmstime=films.nlargest(10,\"Runtime (Minutes)\")[[\"Title\",\"Runtime (Minutes)\"]]\n",
    "dataftime=filmstime[\"Title\"].tolist() \n",
    "datafmin=filmstime[\"Runtime (Minutes)\"].tolist()\n",
    "### Pie \n",
    "plt.figure(figsize=(15,6))\n",
    "plt.subplot(1,2,1)\n",
    "colors=sns.color_palette('hls')\n",
    "explode=(0.4,0,0,0,0,0,0,0,0,0)\n",
    "plt.pie(datafmin,labels=dataftime,colors=colors,explode=explode,autopct='%1.1f%%',shadow=True)\n",
    "plt.title(\"The 10 longest films\")"
   ]
  },
  {
   "cell_type": "markdown",
   "id": "8c2acacc",
   "metadata": {
    "papermill": {
     "duration": 0.064839,
     "end_time": "2022-08-23T17:48:11.727461",
     "exception": false,
     "start_time": "2022-08-23T17:48:11.662622",
     "status": "completed"
    },
    "tags": []
   },
   "source": [
    "### Number of films by years"
   ]
  },
  {
   "cell_type": "code",
   "execution_count": 22,
   "id": "32555819",
   "metadata": {
    "execution": {
     "iopub.execute_input": "2022-08-23T17:48:11.859335Z",
     "iopub.status.busy": "2022-08-23T17:48:11.859051Z",
     "iopub.status.idle": "2022-08-23T17:48:11.871097Z",
     "shell.execute_reply": "2022-08-23T17:48:11.869981Z"
    },
    "papermill": {
     "duration": 0.080999,
     "end_time": "2022-08-23T17:48:11.873633",
     "exception": false,
     "start_time": "2022-08-23T17:48:11.792634",
     "status": "completed"
    },
    "tags": []
   },
   "outputs": [
    {
     "data": {
      "text/html": [
       "<div>\n",
       "<style scoped>\n",
       "    .dataframe tbody tr th:only-of-type {\n",
       "        vertical-align: middle;\n",
       "    }\n",
       "\n",
       "    .dataframe tbody tr th {\n",
       "        vertical-align: top;\n",
       "    }\n",
       "\n",
       "    .dataframe thead th {\n",
       "        text-align: right;\n",
       "    }\n",
       "</style>\n",
       "<table border=\"1\" class=\"dataframe\">\n",
       "  <thead>\n",
       "    <tr style=\"text-align: right;\">\n",
       "      <th></th>\n",
       "      <th>Year</th>\n",
       "      <th>Count</th>\n",
       "    </tr>\n",
       "  </thead>\n",
       "  <tbody>\n",
       "    <tr>\n",
       "      <th>0</th>\n",
       "      <td>2016</td>\n",
       "      <td>297</td>\n",
       "    </tr>\n",
       "    <tr>\n",
       "      <th>1</th>\n",
       "      <td>2015</td>\n",
       "      <td>127</td>\n",
       "    </tr>\n",
       "    <tr>\n",
       "      <th>2</th>\n",
       "      <td>2014</td>\n",
       "      <td>98</td>\n",
       "    </tr>\n",
       "    <tr>\n",
       "      <th>3</th>\n",
       "      <td>2013</td>\n",
       "      <td>91</td>\n",
       "    </tr>\n",
       "    <tr>\n",
       "      <th>4</th>\n",
       "      <td>2012</td>\n",
       "      <td>64</td>\n",
       "    </tr>\n",
       "    <tr>\n",
       "      <th>5</th>\n",
       "      <td>2011</td>\n",
       "      <td>63</td>\n",
       "    </tr>\n",
       "    <tr>\n",
       "      <th>6</th>\n",
       "      <td>2010</td>\n",
       "      <td>60</td>\n",
       "    </tr>\n",
       "    <tr>\n",
       "      <th>7</th>\n",
       "      <td>2007</td>\n",
       "      <td>53</td>\n",
       "    </tr>\n",
       "    <tr>\n",
       "      <th>8</th>\n",
       "      <td>2008</td>\n",
       "      <td>52</td>\n",
       "    </tr>\n",
       "    <tr>\n",
       "      <th>9</th>\n",
       "      <td>2009</td>\n",
       "      <td>51</td>\n",
       "    </tr>\n",
       "    <tr>\n",
       "      <th>10</th>\n",
       "      <td>2006</td>\n",
       "      <td>44</td>\n",
       "    </tr>\n",
       "  </tbody>\n",
       "</table>\n",
       "</div>"
      ],
      "text/plain": [
       "    Year  Count\n",
       "0   2016    297\n",
       "1   2015    127\n",
       "2   2014     98\n",
       "3   2013     91\n",
       "4   2012     64\n",
       "5   2011     63\n",
       "6   2010     60\n",
       "7   2007     53\n",
       "8   2008     52\n",
       "9   2009     51\n",
       "10  2006     44"
      ]
     },
     "execution_count": 22,
     "metadata": {},
     "output_type": "execute_result"
    }
   ],
   "source": [
    "datayears=films[\"Year\"].value_counts().reset_index()\n",
    "datayears=datayears.rename(columns={\"index\":\"Year\",\"Year\":\"Count\"})\n",
    "datayears"
   ]
  },
  {
   "cell_type": "code",
   "execution_count": 23,
   "id": "67732a06",
   "metadata": {
    "execution": {
     "iopub.execute_input": "2022-08-23T17:48:12.006263Z",
     "iopub.status.busy": "2022-08-23T17:48:12.005982Z",
     "iopub.status.idle": "2022-08-23T17:48:12.520421Z",
     "shell.execute_reply": "2022-08-23T17:48:12.519592Z"
    },
    "papermill": {
     "duration": 0.583133,
     "end_time": "2022-08-23T17:48:12.522562",
     "exception": false,
     "start_time": "2022-08-23T17:48:11.939429",
     "status": "completed"
    },
    "tags": []
   },
   "outputs": [
    {
     "data": {
      "image/png": "[encoded data removed]",
      "text/plain": [
       "<Figure size 1080x432 with 2 Axes>"
      ]
     },
     "metadata": {
      "needs_background": "light"
     },
     "output_type": "display_data"
    }
   ],
   "source": [
    "datafyears=datayears[\"Year\"].tolist()\n",
    "datafmin=datayears[\"Count\"].tolist()\n",
    "### Pie\n",
    "plt.figure(figsize=(15,6))\n",
    "plt.subplot(1,2,1)\n",
    "colors=sns.color_palette('hls')\n",
    "explode=(0.2,0,0,0,0,0,0,0,0,0,0)\n",
    "plt.pie(datafmin,labels=datafyears,data=datayears,colors=colors,shadow=True,explode=explode,autopct='%1.1f%%')\n",
    "plt.title(\"Number of films by years\")\n",
    "### Barplot\n",
    "plt.subplot(1,2,2)\n",
    "sns.barplot(x=\"Year\",y=\"Count\",data=datayears,palette=colors)\n",
    "plt.title(\"Number of films by years\")\n",
    "plt.show()"
   ]
  },
  {
   "cell_type": "markdown",
   "id": "9eda7548",
   "metadata": {
    "papermill": {
     "duration": 0.067033,
     "end_time": "2022-08-23T17:48:12.657739",
     "exception": false,
     "start_time": "2022-08-23T17:48:12.590706",
     "status": "completed"
    },
    "tags": []
   },
   "source": [
    "### Find Most Popular Movie Title (Highest Revenue)"
   ]
  },
  {
   "cell_type": "code",
   "execution_count": 24,
   "id": "11c31904",
   "metadata": {
    "execution": {
     "iopub.execute_input": "2022-08-23T17:48:12.794747Z",
     "iopub.status.busy": "2022-08-23T17:48:12.794036Z",
     "iopub.status.idle": "2022-08-23T17:48:12.809524Z",
     "shell.execute_reply": "2022-08-23T17:48:12.808864Z"
    },
    "papermill": {
     "duration": 0.086015,
     "end_time": "2022-08-23T17:48:12.811347",
     "exception": false,
     "start_time": "2022-08-23T17:48:12.725332",
     "status": "completed"
    },
    "tags": []
   },
   "outputs": [
    {
     "data": {
      "text/html": [
       "<div>\n",
       "<style scoped>\n",
       "    .dataframe tbody tr th:only-of-type {\n",
       "        vertical-align: middle;\n",
       "    }\n",
       "\n",
       "    .dataframe tbody tr th {\n",
       "        vertical-align: top;\n",
       "    }\n",
       "\n",
       "    .dataframe thead th {\n",
       "        text-align: right;\n",
       "    }\n",
       "</style>\n",
       "<table border=\"1\" class=\"dataframe\">\n",
       "  <thead>\n",
       "    <tr style=\"text-align: right;\">\n",
       "      <th></th>\n",
       "      <th>Rank</th>\n",
       "      <th>Title</th>\n",
       "      <th>Genre</th>\n",
       "      <th>Description</th>\n",
       "      <th>Director</th>\n",
       "      <th>Actors</th>\n",
       "      <th>Year</th>\n",
       "      <th>Runtime (Minutes)</th>\n",
       "      <th>Rating</th>\n",
       "      <th>Votes</th>\n",
       "      <th>Revenue (Millions)</th>\n",
       "      <th>Metascore</th>\n",
       "    </tr>\n",
       "  </thead>\n",
       "  <tbody>\n",
       "    <tr>\n",
       "      <th>50</th>\n",
       "      <td>51</td>\n",
       "      <td>Star Wars: Episode VII - The Force Awakens</td>\n",
       "      <td>Action,Adventure,Fantasy</td>\n",
       "      <td>Three decades after the defeat of the Galactic...</td>\n",
       "      <td>J.J. Abrams</td>\n",
       "      <td>Daisy Ridley, John Boyega, Oscar Isaac, Domhna...</td>\n",
       "      <td>2015</td>\n",
       "      <td>136</td>\n",
       "      <td>8.1</td>\n",
       "      <td>661608</td>\n",
       "      <td>936.63</td>\n",
       "      <td>81.0</td>\n",
       "    </tr>\n",
       "  </tbody>\n",
       "</table>\n",
       "</div>"
      ],
      "text/plain": [
       "    Rank                                       Title  \\\n",
       "50    51  Star Wars: Episode VII - The Force Awakens   \n",
       "\n",
       "                       Genre  \\\n",
       "50  Action,Adventure,Fantasy   \n",
       "\n",
       "                                          Description     Director  \\\n",
       "50  Three decades after the defeat of the Galactic...  J.J. Abrams   \n",
       "\n",
       "                                               Actors  Year  \\\n",
       "50  Daisy Ridley, John Boyega, Oscar Isaac, Domhna...  2015   \n",
       "\n",
       "    Runtime (Minutes)  Rating   Votes  Revenue (Millions)  Metascore  \n",
       "50                136     8.1  661608              936.63       81.0  "
      ]
     },
     "execution_count": 24,
     "metadata": {},
     "output_type": "execute_result"
    }
   ],
   "source": [
    "films[films[\"Revenue (Millions)\"].max()==films['Revenue (Millions)']]"
   ]
  },
  {
   "cell_type": "markdown",
   "id": "c9e01c8c",
   "metadata": {
    "papermill": {
     "duration": 0.06761,
     "end_time": "2022-08-23T17:48:12.948458",
     "exception": false,
     "start_time": "2022-08-23T17:48:12.880848",
     "status": "completed"
    },
    "tags": []
   },
   "source": [
    "### Display Top 10 Highest Rated Movie Titles And its Directors"
   ]
  },
  {
   "cell_type": "code",
   "execution_count": 25,
   "id": "bb3199f3",
   "metadata": {
    "execution": {
     "iopub.execute_input": "2022-08-23T17:48:13.084942Z",
     "iopub.status.busy": "2022-08-23T17:48:13.084042Z",
     "iopub.status.idle": "2022-08-23T17:48:13.098270Z",
     "shell.execute_reply": "2022-08-23T17:48:13.097385Z"
    },
    "papermill": {
     "duration": 0.084826,
     "end_time": "2022-08-23T17:48:13.100301",
     "exception": false,
     "start_time": "2022-08-23T17:48:13.015475",
     "status": "completed"
    },
    "tags": []
   },
   "outputs": [
    {
     "data": {
      "text/html": [
       "<div>\n",
       "<style scoped>\n",
       "    .dataframe tbody tr th:only-of-type {\n",
       "        vertical-align: middle;\n",
       "    }\n",
       "\n",
       "    .dataframe tbody tr th {\n",
       "        vertical-align: top;\n",
       "    }\n",
       "\n",
       "    .dataframe thead th {\n",
       "        text-align: right;\n",
       "    }\n",
       "</style>\n",
       "<table border=\"1\" class=\"dataframe\">\n",
       "  <thead>\n",
       "    <tr style=\"text-align: right;\">\n",
       "      <th></th>\n",
       "      <th>Title</th>\n",
       "      <th>Rating</th>\n",
       "      <th>Director</th>\n",
       "    </tr>\n",
       "  </thead>\n",
       "  <tbody>\n",
       "    <tr>\n",
       "      <th>54</th>\n",
       "      <td>The Dark Knight</td>\n",
       "      <td>9.0</td>\n",
       "      <td>Christopher Nolan</td>\n",
       "    </tr>\n",
       "    <tr>\n",
       "      <th>80</th>\n",
       "      <td>Inception</td>\n",
       "      <td>8.8</td>\n",
       "      <td>Christopher Nolan</td>\n",
       "    </tr>\n",
       "    <tr>\n",
       "      <th>117</th>\n",
       "      <td>Dangal</td>\n",
       "      <td>8.8</td>\n",
       "      <td>Nitesh Tiwari</td>\n",
       "    </tr>\n",
       "    <tr>\n",
       "      <th>36</th>\n",
       "      <td>Interstellar</td>\n",
       "      <td>8.6</td>\n",
       "      <td>Christopher Nolan</td>\n",
       "    </tr>\n",
       "    <tr>\n",
       "      <th>96</th>\n",
       "      <td>Kimi no na wa</td>\n",
       "      <td>8.6</td>\n",
       "      <td>Makoto Shinkai</td>\n",
       "    </tr>\n",
       "    <tr>\n",
       "      <th>249</th>\n",
       "      <td>The Intouchables</td>\n",
       "      <td>8.6</td>\n",
       "      <td>Olivier Nakache</td>\n",
       "    </tr>\n",
       "    <tr>\n",
       "      <th>64</th>\n",
       "      <td>The Prestige</td>\n",
       "      <td>8.5</td>\n",
       "      <td>Christopher Nolan</td>\n",
       "    </tr>\n",
       "    <tr>\n",
       "      <th>99</th>\n",
       "      <td>The Departed</td>\n",
       "      <td>8.5</td>\n",
       "      <td>Martin Scorsese</td>\n",
       "    </tr>\n",
       "    <tr>\n",
       "      <th>124</th>\n",
       "      <td>The Dark Knight Rises</td>\n",
       "      <td>8.5</td>\n",
       "      <td>Christopher Nolan</td>\n",
       "    </tr>\n",
       "    <tr>\n",
       "      <th>133</th>\n",
       "      <td>Whiplash</td>\n",
       "      <td>8.5</td>\n",
       "      <td>Damien Chazelle</td>\n",
       "    </tr>\n",
       "  </tbody>\n",
       "</table>\n",
       "</div>"
      ],
      "text/plain": [
       "                     Title  Rating           Director\n",
       "54         The Dark Knight     9.0  Christopher Nolan\n",
       "80               Inception     8.8  Christopher Nolan\n",
       "117                 Dangal     8.8      Nitesh Tiwari\n",
       "36            Interstellar     8.6  Christopher Nolan\n",
       "96           Kimi no na wa     8.6     Makoto Shinkai\n",
       "249       The Intouchables     8.6    Olivier Nakache\n",
       "64            The Prestige     8.5  Christopher Nolan\n",
       "99            The Departed     8.5    Martin Scorsese\n",
       "124  The Dark Knight Rises     8.5  Christopher Nolan\n",
       "133               Whiplash     8.5    Damien Chazelle"
      ]
     },
     "execution_count": 25,
     "metadata": {},
     "output_type": "execute_result"
    }
   ],
   "source": [
    "titdirector=films.nlargest(10,\"Rating\")[[\"Title\",\"Rating\",\"Director\"]]\n",
    "titdirector"
   ]
  },
  {
   "cell_type": "code",
   "execution_count": 26,
   "id": "9f5ac26d",
   "metadata": {
    "execution": {
     "iopub.execute_input": "2022-08-23T17:48:13.241959Z",
     "iopub.status.busy": "2022-08-23T17:48:13.241683Z",
     "iopub.status.idle": "2022-08-23T17:48:13.647887Z",
     "shell.execute_reply": "2022-08-23T17:48:13.646964Z"
    },
    "papermill": {
     "duration": 0.47916,
     "end_time": "2022-08-23T17:48:13.650290",
     "exception": false,
     "start_time": "2022-08-23T17:48:13.171130",
     "status": "completed"
    },
    "tags": []
   },
   "outputs": [
    {
     "data": {
      "image/png": "[encoded data removed]",
      "text/plain": [
       "<Figure size 936x432 with 1 Axes>"
      ]
     },
     "metadata": {
      "needs_background": "light"
     },
     "output_type": "display_data"
    }
   ],
   "source": [
    "plt.figure(figsize=(13,6))\n",
    "\n",
    "sns.barplot(y=\"Title\",x=\"Rating\",data=titdirector,hue=\"Director\",dodge=False,palette=colors)\n",
    "plt.title(\" Display Top 10 Highest Rated Movie Titles And its Directors\")\n",
    "plt.legend(bbox_to_anchor=(1.05,1),loc=2)\n",
    "plt.show()"
   ]
  },
  {
   "cell_type": "markdown",
   "id": "1af493de",
   "metadata": {
    "papermill": {
     "duration": 0.069444,
     "end_time": "2022-08-23T17:48:13.790240",
     "exception": false,
     "start_time": "2022-08-23T17:48:13.720796",
     "status": "completed"
    },
    "tags": []
   },
   "source": [
    "### Display Top 10 Highest Revenue Movie Titles"
   ]
  },
  {
   "cell_type": "code",
   "execution_count": 27,
   "id": "9920fc02",
   "metadata": {
    "execution": {
     "iopub.execute_input": "2022-08-23T17:48:13.948456Z",
     "iopub.status.busy": "2022-08-23T17:48:13.947688Z",
     "iopub.status.idle": "2022-08-23T17:48:13.962440Z",
     "shell.execute_reply": "2022-08-23T17:48:13.961467Z"
    },
    "papermill": {
     "duration": 0.104715,
     "end_time": "2022-08-23T17:48:13.964598",
     "exception": false,
     "start_time": "2022-08-23T17:48:13.859883",
     "status": "completed"
    },
    "tags": []
   },
   "outputs": [
    {
     "data": {
      "text/html": [
       "<div>\n",
       "<style scoped>\n",
       "    .dataframe tbody tr th:only-of-type {\n",
       "        vertical-align: middle;\n",
       "    }\n",
       "\n",
       "    .dataframe tbody tr th {\n",
       "        vertical-align: top;\n",
       "    }\n",
       "\n",
       "    .dataframe thead th {\n",
       "        text-align: right;\n",
       "    }\n",
       "</style>\n",
       "<table border=\"1\" class=\"dataframe\">\n",
       "  <thead>\n",
       "    <tr style=\"text-align: right;\">\n",
       "      <th></th>\n",
       "      <th>Title</th>\n",
       "      <th>Revenue (Millions)</th>\n",
       "    </tr>\n",
       "  </thead>\n",
       "  <tbody>\n",
       "    <tr>\n",
       "      <th>50</th>\n",
       "      <td>Star Wars: Episode VII - The Force Awakens</td>\n",
       "      <td>936.63</td>\n",
       "    </tr>\n",
       "    <tr>\n",
       "      <th>87</th>\n",
       "      <td>Avatar</td>\n",
       "      <td>760.51</td>\n",
       "    </tr>\n",
       "    <tr>\n",
       "      <th>85</th>\n",
       "      <td>Jurassic World</td>\n",
       "      <td>652.18</td>\n",
       "    </tr>\n",
       "    <tr>\n",
       "      <th>76</th>\n",
       "      <td>The Avengers</td>\n",
       "      <td>623.28</td>\n",
       "    </tr>\n",
       "    <tr>\n",
       "      <th>54</th>\n",
       "      <td>The Dark Knight</td>\n",
       "      <td>533.32</td>\n",
       "    </tr>\n",
       "    <tr>\n",
       "      <th>12</th>\n",
       "      <td>Rogue One</td>\n",
       "      <td>532.17</td>\n",
       "    </tr>\n",
       "    <tr>\n",
       "      <th>119</th>\n",
       "      <td>Finding Dory</td>\n",
       "      <td>486.29</td>\n",
       "    </tr>\n",
       "    <tr>\n",
       "      <th>94</th>\n",
       "      <td>Avengers: Age of Ultron</td>\n",
       "      <td>458.99</td>\n",
       "    </tr>\n",
       "    <tr>\n",
       "      <th>124</th>\n",
       "      <td>The Dark Knight Rises</td>\n",
       "      <td>448.13</td>\n",
       "    </tr>\n",
       "    <tr>\n",
       "      <th>578</th>\n",
       "      <td>The Hunger Games: Catching Fire</td>\n",
       "      <td>424.65</td>\n",
       "    </tr>\n",
       "  </tbody>\n",
       "</table>\n",
       "</div>"
      ],
      "text/plain": [
       "                                          Title  Revenue (Millions)\n",
       "50   Star Wars: Episode VII - The Force Awakens              936.63\n",
       "87                                       Avatar              760.51\n",
       "85                               Jurassic World              652.18\n",
       "76                                 The Avengers              623.28\n",
       "54                              The Dark Knight              533.32\n",
       "12                                    Rogue One              532.17\n",
       "119                                Finding Dory              486.29\n",
       "94                      Avengers: Age of Ultron              458.99\n",
       "124                       The Dark Knight Rises              448.13\n",
       "578             The Hunger Games: Catching Fire              424.65"
      ]
     },
     "execution_count": 27,
     "metadata": {},
     "output_type": "execute_result"
    }
   ],
   "source": [
    "films.nlargest(10,\"Revenue (Millions)\")[[\"Title\",\"Revenue (Millions)\"]]"
   ]
  },
  {
   "cell_type": "code",
   "execution_count": 28,
   "id": "679da392",
   "metadata": {
    "execution": {
     "iopub.execute_input": "2022-08-23T17:48:14.117338Z",
     "iopub.status.busy": "2022-08-23T17:48:14.116710Z",
     "iopub.status.idle": "2022-08-23T17:48:14.327280Z",
     "shell.execute_reply": "2022-08-23T17:48:14.326588Z"
    },
    "papermill": {
     "duration": 0.285492,
     "end_time": "2022-08-23T17:48:14.329402",
     "exception": false,
     "start_time": "2022-08-23T17:48:14.043910",
     "status": "completed"
    },
    "tags": []
   },
   "outputs": [
    {
     "data": {
      "image/png": "[encoded data removed]",
      "text/plain": [
       "<Figure size 1080x432 with 1 Axes>"
      ]
     },
     "metadata": {},
     "output_type": "display_data"
    }
   ],
   "source": [
    "highrevenue=films.nlargest(10,\"Revenue (Millions)\")[[\"Title\",\"Revenue (Millions)\"]]\n",
    "data10=highrevenue[\"Title\"].tolist()\n",
    "data10revenue=highrevenue[\"Revenue (Millions)\"].tolist()\n",
    "### Pie Chart\n",
    "plt.figure(figsize=(15,6))\n",
    "plt.subplot(1,2,1)\n",
    "colors=sns.color_palette('hls')\n",
    "explode=(0.3,0,0,0,0,0,0,0,0,0)\n",
    "plt.pie(data10revenue,labels=data10,data=highrevenue,explode=explode,shadow=True,colors=colors,autopct='%1.1f%%')\n",
    "plt.title(\"Display Top 10 Highest Revenue Movie Titles\")\n",
    "plt.show()"
   ]
  },
  {
   "cell_type": "markdown",
   "id": "0832dec6",
   "metadata": {
    "papermill": {
     "duration": 0.072668,
     "end_time": "2022-08-23T17:48:14.476757",
     "exception": false,
     "start_time": "2022-08-23T17:48:14.404089",
     "status": "completed"
    },
    "tags": []
   },
   "source": [
    "### Find Average Rating of Movies Year Wise"
   ]
  },
  {
   "cell_type": "code",
   "execution_count": 29,
   "id": "1794aae4",
   "metadata": {
    "execution": {
     "iopub.execute_input": "2022-08-23T17:48:14.624100Z",
     "iopub.status.busy": "2022-08-23T17:48:14.623479Z",
     "iopub.status.idle": "2022-08-23T17:48:14.630086Z",
     "shell.execute_reply": "2022-08-23T17:48:14.629242Z"
    },
    "papermill": {
     "duration": 0.083399,
     "end_time": "2022-08-23T17:48:14.631947",
     "exception": false,
     "start_time": "2022-08-23T17:48:14.548548",
     "status": "completed"
    },
    "tags": []
   },
   "outputs": [
    {
     "data": {
      "text/plain": [
       "Index(['Rank', 'Title', 'Genre', 'Description', 'Director', 'Actors', 'Year',\n",
       "       'Runtime (Minutes)', 'Rating', 'Votes', 'Revenue (Millions)',\n",
       "       'Metascore'],\n",
       "      dtype='object')"
      ]
     },
     "execution_count": 29,
     "metadata": {},
     "output_type": "execute_result"
    }
   ],
   "source": [
    "films.columns"
   ]
  },
  {
   "cell_type": "code",
   "execution_count": 30,
   "id": "21fa896f",
   "metadata": {
    "execution": {
     "iopub.execute_input": "2022-08-23T17:48:14.778322Z",
     "iopub.status.busy": "2022-08-23T17:48:14.777318Z",
     "iopub.status.idle": "2022-08-23T17:48:14.789347Z",
     "shell.execute_reply": "2022-08-23T17:48:14.788658Z"
    },
    "papermill": {
     "duration": 0.087091,
     "end_time": "2022-08-23T17:48:14.791175",
     "exception": false,
     "start_time": "2022-08-23T17:48:14.704084",
     "status": "completed"
    },
    "tags": []
   },
   "outputs": [
    {
     "data": {
      "text/html": [
       "<div>\n",
       "<style scoped>\n",
       "    .dataframe tbody tr th:only-of-type {\n",
       "        vertical-align: middle;\n",
       "    }\n",
       "\n",
       "    .dataframe tbody tr th {\n",
       "        vertical-align: top;\n",
       "    }\n",
       "\n",
       "    .dataframe thead th {\n",
       "        text-align: right;\n",
       "    }\n",
       "</style>\n",
       "<table border=\"1\" class=\"dataframe\">\n",
       "  <thead>\n",
       "    <tr style=\"text-align: right;\">\n",
       "      <th></th>\n",
       "      <th>Year</th>\n",
       "      <th>Rating</th>\n",
       "    </tr>\n",
       "  </thead>\n",
       "  <tbody>\n",
       "    <tr>\n",
       "      <th>0</th>\n",
       "      <td>2007</td>\n",
       "      <td>7.133962</td>\n",
       "    </tr>\n",
       "    <tr>\n",
       "      <th>1</th>\n",
       "      <td>2006</td>\n",
       "      <td>7.125000</td>\n",
       "    </tr>\n",
       "    <tr>\n",
       "      <th>2</th>\n",
       "      <td>2009</td>\n",
       "      <td>6.960784</td>\n",
       "    </tr>\n",
       "    <tr>\n",
       "      <th>3</th>\n",
       "      <td>2012</td>\n",
       "      <td>6.925000</td>\n",
       "    </tr>\n",
       "    <tr>\n",
       "      <th>4</th>\n",
       "      <td>2011</td>\n",
       "      <td>6.838095</td>\n",
       "    </tr>\n",
       "    <tr>\n",
       "      <th>5</th>\n",
       "      <td>2014</td>\n",
       "      <td>6.837755</td>\n",
       "    </tr>\n",
       "    <tr>\n",
       "      <th>6</th>\n",
       "      <td>2010</td>\n",
       "      <td>6.826667</td>\n",
       "    </tr>\n",
       "    <tr>\n",
       "      <th>7</th>\n",
       "      <td>2013</td>\n",
       "      <td>6.812088</td>\n",
       "    </tr>\n",
       "    <tr>\n",
       "      <th>8</th>\n",
       "      <td>2008</td>\n",
       "      <td>6.784615</td>\n",
       "    </tr>\n",
       "    <tr>\n",
       "      <th>9</th>\n",
       "      <td>2015</td>\n",
       "      <td>6.602362</td>\n",
       "    </tr>\n",
       "    <tr>\n",
       "      <th>10</th>\n",
       "      <td>2016</td>\n",
       "      <td>6.436700</td>\n",
       "    </tr>\n",
       "  </tbody>\n",
       "</table>\n",
       "</div>"
      ],
      "text/plain": [
       "    Year    Rating\n",
       "0   2007  7.133962\n",
       "1   2006  7.125000\n",
       "2   2009  6.960784\n",
       "3   2012  6.925000\n",
       "4   2011  6.838095\n",
       "5   2014  6.837755\n",
       "6   2010  6.826667\n",
       "7   2013  6.812088\n",
       "8   2008  6.784615\n",
       "9   2015  6.602362\n",
       "10  2016  6.436700"
      ]
     },
     "execution_count": 30,
     "metadata": {},
     "output_type": "execute_result"
    }
   ],
   "source": [
    "filmsmean=films.groupby(\"Year\")[\"Rating\"].mean().sort_values(ascending=False).reset_index()\n",
    "filmsmean"
   ]
  },
  {
   "cell_type": "code",
   "execution_count": 31,
   "id": "674d4d4a",
   "metadata": {
    "execution": {
     "iopub.execute_input": "2022-08-23T17:48:14.940687Z",
     "iopub.status.busy": "2022-08-23T17:48:14.940379Z",
     "iopub.status.idle": "2022-08-23T17:48:15.138743Z",
     "shell.execute_reply": "2022-08-23T17:48:15.137700Z"
    },
    "papermill": {
     "duration": 0.276809,
     "end_time": "2022-08-23T17:48:15.141058",
     "exception": false,
     "start_time": "2022-08-23T17:48:14.864249",
     "status": "completed"
    },
    "tags": []
   },
   "outputs": [
    {
     "data": {
      "image/png": "[encoded data removed]",
      "text/plain": [
       "<Figure size 1080x432 with 1 Axes>"
      ]
     },
     "metadata": {
      "needs_background": "light"
     },
     "output_type": "display_data"
    }
   ],
   "source": [
    "plt.figure(figsize=(15,6))\n",
    "sns.barplot(x=\"Year\",y=\"Rating\",data=filmsmean,palette=colors)\n",
    "plt.title(\"Average rating of movies by years\")\n",
    "plt.show()"
   ]
  },
  {
   "cell_type": "markdown",
   "id": "4f621a7f",
   "metadata": {
    "papermill": {
     "duration": 0.073326,
     "end_time": "2022-08-23T17:48:15.289358",
     "exception": false,
     "start_time": "2022-08-23T17:48:15.216032",
     "status": "completed"
    },
    "tags": []
   },
   "source": [
    "### Does Rating Affect The Revenue?"
   ]
  },
  {
   "cell_type": "code",
   "execution_count": 32,
   "id": "8af243b7",
   "metadata": {
    "execution": {
     "iopub.execute_input": "2022-08-23T17:48:15.438538Z",
     "iopub.status.busy": "2022-08-23T17:48:15.438224Z",
     "iopub.status.idle": "2022-08-23T17:48:15.620505Z",
     "shell.execute_reply": "2022-08-23T17:48:15.619554Z"
    },
    "papermill": {
     "duration": 0.259752,
     "end_time": "2022-08-23T17:48:15.622674",
     "exception": false,
     "start_time": "2022-08-23T17:48:15.362922",
     "status": "completed"
    },
    "tags": []
   },
   "outputs": [
    {
     "data": {
      "image/png": "[encoded data removed]",
      "text/plain": [
       "<Figure size 1080x432 with 1 Axes>"
      ]
     },
     "metadata": {
      "needs_background": "light"
     },
     "output_type": "display_data"
    }
   ],
   "source": [
    "plt.figure(figsize=(15,6))\n",
    "sns.scatterplot(x=\"Rating\",y=\"Revenue (Millions)\",data=films)\n",
    "plt.title(\"Rating & profit relationship\")\n",
    "plt.show()"
   ]
  },
  {
   "cell_type": "markdown",
   "id": "51b99f46",
   "metadata": {
    "papermill": {
     "duration": 0.089257,
     "end_time": "2022-08-23T17:48:15.787464",
     "exception": false,
     "start_time": "2022-08-23T17:48:15.698207",
     "status": "completed"
    },
    "tags": []
   },
   "source": [
    "### Classify Movies Based on Ratings"
   ]
  },
  {
   "cell_type": "code",
   "execution_count": 33,
   "id": "64d2c559",
   "metadata": {
    "execution": {
     "iopub.execute_input": "2022-08-23T17:48:15.942058Z",
     "iopub.status.busy": "2022-08-23T17:48:15.941559Z",
     "iopub.status.idle": "2022-08-23T17:48:15.967318Z",
     "shell.execute_reply": "2022-08-23T17:48:15.966647Z"
    },
    "papermill": {
     "duration": 0.1053,
     "end_time": "2022-08-23T17:48:15.969681",
     "exception": false,
     "start_time": "2022-08-23T17:48:15.864381",
     "status": "completed"
    },
    "tags": []
   },
   "outputs": [],
   "source": [
    "def rating(movie):\n",
    "    if movie.Rating>=7.0:\n",
    "        return \"High\"\n",
    "    elif movie.Rating<=6.0:\n",
    "        return \"Good\"\n",
    "    else:\n",
    "        return \"Average\"\n",
    "\n",
    "films[\"Rating words\"]=films.apply(rating,axis=\"columns\") "
   ]
  },
  {
   "cell_type": "code",
   "execution_count": 34,
   "id": "3328346b",
   "metadata": {
    "execution": {
     "iopub.execute_input": "2022-08-23T17:48:16.125416Z",
     "iopub.status.busy": "2022-08-23T17:48:16.124855Z",
     "iopub.status.idle": "2022-08-23T17:48:16.131846Z",
     "shell.execute_reply": "2022-08-23T17:48:16.131055Z"
    },
    "papermill": {
     "duration": 0.086487,
     "end_time": "2022-08-23T17:48:16.134079",
     "exception": false,
     "start_time": "2022-08-23T17:48:16.047592",
     "status": "completed"
    },
    "tags": []
   },
   "outputs": [
    {
     "data": {
      "text/plain": [
       "High       445\n",
       "Average    345\n",
       "Good       210\n",
       "Name: Rating words, dtype: int64"
      ]
     },
     "execution_count": 34,
     "metadata": {},
     "output_type": "execute_result"
    }
   ],
   "source": [
    "films[\"Rating words\"].value_counts()"
   ]
  },
  {
   "cell_type": "code",
   "execution_count": 35,
   "id": "62a4b451",
   "metadata": {
    "execution": {
     "iopub.execute_input": "2022-08-23T17:48:16.289844Z",
     "iopub.status.busy": "2022-08-23T17:48:16.289560Z",
     "iopub.status.idle": "2022-08-23T17:48:16.297191Z",
     "shell.execute_reply": "2022-08-23T17:48:16.296279Z"
    },
    "papermill": {
     "duration": 0.087639,
     "end_time": "2022-08-23T17:48:16.299389",
     "exception": false,
     "start_time": "2022-08-23T17:48:16.211750",
     "status": "completed"
    },
    "tags": []
   },
   "outputs": [],
   "source": [
    "datawords=films[\"Rating words\"].value_counts().reset_index()\n",
    "datawords=datawords.rename(columns={\"index\":\"Rating Words\",\"Rating words\":\"Count\"})\n",
    "datawords=datawords.set_index(\"Rating Words\")"
   ]
  },
  {
   "cell_type": "code",
   "execution_count": 36,
   "id": "ba7b5b2b",
   "metadata": {
    "execution": {
     "iopub.execute_input": "2022-08-23T17:48:16.453605Z",
     "iopub.status.busy": "2022-08-23T17:48:16.453033Z",
     "iopub.status.idle": "2022-08-23T17:48:16.807274Z",
     "shell.execute_reply": "2022-08-23T17:48:16.806581Z"
    },
    "papermill": {
     "duration": 0.433561,
     "end_time": "2022-08-23T17:48:16.809416",
     "exception": false,
     "start_time": "2022-08-23T17:48:16.375855",
     "status": "completed"
    },
    "tags": []
   },
   "outputs": [
    {
     "data": {
      "image/png": "[encoded data removed]",
      "text/plain": [
       "<Figure size 1080x432 with 2 Axes>"
      ]
     },
     "metadata": {
      "needs_background": "light"
     },
     "output_type": "display_data"
    }
   ],
   "source": [
    "plt.figure(figsize=(15,6))\n",
    "plt.subplot(1,2,1)\n",
    "colors=sns.color_palette('hls')\n",
    "sns.barplot(x=datawords.index,y=\"Count\",data=datawords,palette=colors)\n",
    "plt.title(\"Rating number information\")\n",
    "plt.subplot(1,2,2)\n",
    "sns.countplot(x=\"Year\",hue=\"Rating words\",data=films,palette=colors)\n",
    "plt.title(\"Rating indicators by years\")\n",
    "plt.show()"
   ]
  },
  {
   "cell_type": "markdown",
   "id": "f1b1fe98",
   "metadata": {
    "papermill": {
     "duration": 0.077282,
     "end_time": "2022-08-23T17:48:16.964410",
     "exception": false,
     "start_time": "2022-08-23T17:48:16.887128",
     "status": "completed"
    },
    "tags": []
   },
   "source": [
    "### Information about the genres of films"
   ]
  },
  {
   "cell_type": "code",
   "execution_count": 37,
   "id": "fdd9f207",
   "metadata": {
    "execution": {
     "iopub.execute_input": "2022-08-23T17:48:17.119231Z",
     "iopub.status.busy": "2022-08-23T17:48:17.118656Z",
     "iopub.status.idle": "2022-08-23T17:48:17.125074Z",
     "shell.execute_reply": "2022-08-23T17:48:17.124085Z"
    },
    "papermill": {
     "duration": 0.086471,
     "end_time": "2022-08-23T17:48:17.127239",
     "exception": false,
     "start_time": "2022-08-23T17:48:17.040768",
     "status": "completed"
    },
    "tags": []
   },
   "outputs": [
    {
     "data": {
      "text/plain": [
       "Index(['Rank', 'Title', 'Genre', 'Description', 'Director', 'Actors', 'Year',\n",
       "       'Runtime (Minutes)', 'Rating', 'Votes', 'Revenue (Millions)',\n",
       "       'Metascore', 'Rating words'],\n",
       "      dtype='object')"
      ]
     },
     "execution_count": 37,
     "metadata": {},
     "output_type": "execute_result"
    }
   ],
   "source": [
    "films.columns"
   ]
  },
  {
   "cell_type": "code",
   "execution_count": 38,
   "id": "35d7480b",
   "metadata": {
    "execution": {
     "iopub.execute_input": "2022-08-23T17:48:17.283449Z",
     "iopub.status.busy": "2022-08-23T17:48:17.283145Z",
     "iopub.status.idle": "2022-08-23T17:48:17.289206Z",
     "shell.execute_reply": "2022-08-23T17:48:17.288083Z"
    },
    "papermill": {
     "duration": 0.086573,
     "end_time": "2022-08-23T17:48:17.291558",
     "exception": false,
     "start_time": "2022-08-23T17:48:17.204985",
     "status": "completed"
    },
    "tags": []
   },
   "outputs": [],
   "source": [
    "### First, we split the movies with the \"split\" command and add them to list1\n",
    "list1=[]\n",
    "for item in films[\"Genre\"]:\n",
    "    list1.append(item.split(\",\"))    "
   ]
  },
  {
   "cell_type": "code",
   "execution_count": 39,
   "id": "d297d02b",
   "metadata": {
    "execution": {
     "iopub.execute_input": "2022-08-23T17:48:17.451247Z",
     "iopub.status.busy": "2022-08-23T17:48:17.450617Z",
     "iopub.status.idle": "2022-08-23T17:48:17.455246Z",
     "shell.execute_reply": "2022-08-23T17:48:17.454532Z"
    },
    "papermill": {
     "duration": 0.086919,
     "end_time": "2022-08-23T17:48:17.457341",
     "exception": false,
     "start_time": "2022-08-23T17:48:17.370422",
     "status": "completed"
    },
    "tags": []
   },
   "outputs": [],
   "source": [
    "###Secondly, we separate the genres\n",
    "list2=[]\n",
    "for item2 in list1:\n",
    "    for item3 in item2:\n",
    "        list2.append(item3)"
   ]
  },
  {
   "cell_type": "code",
   "execution_count": 40,
   "id": "46736501",
   "metadata": {
    "execution": {
     "iopub.execute_input": "2022-08-23T17:48:17.614944Z",
     "iopub.status.busy": "2022-08-23T17:48:17.614039Z",
     "iopub.status.idle": "2022-08-23T17:48:17.626679Z",
     "shell.execute_reply": "2022-08-23T17:48:17.625748Z"
    },
    "papermill": {
     "duration": 0.093301,
     "end_time": "2022-08-23T17:48:17.628769",
     "exception": false,
     "start_time": "2022-08-23T17:48:17.535468",
     "status": "completed"
    },
    "tags": []
   },
   "outputs": [
    {
     "data": {
      "text/plain": [
       "Genre    \n",
       "Drama        513\n",
       "Action       303\n",
       "Comedy       279\n",
       "Adventure    259\n",
       "Thriller     195\n",
       "Crime        150\n",
       "Romance      141\n",
       "Sci-Fi       120\n",
       "Horror       119\n",
       "Mystery      106\n",
       "Fantasy      101\n",
       "Biography     81\n",
       "Family        51\n",
       "Animation     49\n",
       "History       29\n",
       "Sport         18\n",
       "Music         16\n",
       "War           13\n",
       "Western        7\n",
       "Musical        5\n",
       "dtype: int64"
      ]
     },
     "execution_count": 40,
     "metadata": {},
     "output_type": "execute_result"
    }
   ],
   "source": [
    "### Number of genres\n",
    "datagenree=pd.DataFrame(list2,columns=[\"Genre\"]).reset_index()\n",
    "datagenree=datagenree.drop([\"index\"],axis=1) \n",
    "datagenree.value_counts()"
   ]
  },
  {
   "cell_type": "markdown",
   "id": "0639649a",
   "metadata": {
    "papermill": {
     "duration": 0.076916,
     "end_time": "2022-08-23T17:48:17.783380",
     "exception": false,
     "start_time": "2022-08-23T17:48:17.706464",
     "status": "completed"
    },
    "tags": []
   },
   "source": [
    "### Display Title of the Movie having runtime >=180 Minutes"
   ]
  },
  {
   "cell_type": "code",
   "execution_count": 41,
   "id": "0a42ff9a",
   "metadata": {
    "execution": {
     "iopub.execute_input": "2022-08-23T17:48:17.940643Z",
     "iopub.status.busy": "2022-08-23T17:48:17.940065Z",
     "iopub.status.idle": "2022-08-23T17:48:17.948593Z",
     "shell.execute_reply": "2022-08-23T17:48:17.947844Z"
    },
    "papermill": {
     "duration": 0.089303,
     "end_time": "2022-08-23T17:48:17.950554",
     "exception": false,
     "start_time": "2022-08-23T17:48:17.861251",
     "status": "completed"
    },
    "tags": []
   },
   "outputs": [
    {
     "data": {
      "text/plain": [
       "82     The Wolf of Wall Street\n",
       "88           The Hateful Eight\n",
       "311             La vie d'Adèle\n",
       "828                 Grindhouse\n",
       "965              Inland Empire\n",
       "Name: Title, dtype: object"
      ]
     },
     "execution_count": 41,
     "metadata": {},
     "output_type": "execute_result"
    }
   ],
   "source": [
    "films[films['Runtime (Minutes)']>=180]['Title']"
   ]
  },
  {
   "cell_type": "code",
   "execution_count": null,
   "id": "391c14fb",
   "metadata": {
    "papermill": {
     "duration": 0.07802,
     "end_time": "2022-08-23T17:48:18.105763",
     "exception": false,
     "start_time": "2022-08-23T17:48:18.027743",
     "status": "completed"
    },
    "tags": []
   },
   "outputs": [],
   "source": []
  }
 ],
 "metadata": {
  "kernelspec": {
   "display_name": "Python 3",
   "language": "python",
   "name": "python3"
  },
  "language_info": {
   "codemirror_mode": {
    "name": "ipython",
    "version": 3
   },
   "file_extension": ".py",
   "mimetype": "text/x-python",
   "name": "python",
   "nbconvert_exporter": "python",
   "pygments_lexer": "ipython3",
   "version": "3.7.12"
  },
  "papermill": {
   "default_parameters": {},
   "duration": 24.663448,
   "end_time": "2022-08-23T17:48:19.006663",
   "environment_variables": {},
   "exception": null,
   "input_path": "__notebook__.ipynb",
   "output_path": "__notebook__.ipynb",
   "parameters": {},
   "start_time": "2022-08-23T17:47:54.343215",
   "version": "2.3.4"
  }
 },
 "nbformat": 4,
 "nbformat_minor": 5
}
